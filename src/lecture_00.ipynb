{
 "cells": [
  {
   "cell_type": "markdown",
   "id": "6c388d3d-0312-46a5-8b8f-bbf4de5420ed",
   "metadata": {},
   "source": [
    "# 数值计算方法\n",
    "\n",
    "2024 年秋季学期本科\n",
    "\n",
    "## 第 0 章 绪论"
   ]
  },
  {
   "cell_type": "markdown",
   "id": "a7c60a42-223c-4e0b-9255-c4e97cb1e77e",
   "metadata": {},
   "source": [
    "### 课程概要\n",
    "\n",
    "#### 学时安排\n",
    "\n",
    "共 36 学时，其中讲授 28 学时，实验 8 学时\n",
    "\n",
    "每周 2 课时版本\n",
    "\n",
    "|周次|章|节|主要内容|学时|作业|\n",
    "|--|--|--|--|--|--|\n",
    "|一|0. 绪论||课程安排；考核办法；数学基础；计算机基础；学习方法|1||\n",
    "||1. 误差||浮点数；绝对误差和相对误差；有效数字|1|安装 Python 环境|\n",
    "|二|1. 误差||误差的传播；Python语言基础|2|在线测验 A|\n",
    "|三|2. 数值线性代数||求解线性方程组的直接法；向量范数和矩阵范数；条件数|2||\n",
    "|四|2. 数值线性代数||求解线性方程组的迭代法；*共轭梯度法|2|课后作业 1|\n",
    "|五|||实验：求解线性方程组|2|实验 1|\n",
    "|六|3. 方程求根||方程和根；二分法；不动点迭代法；Newton法及其变体|2|课后作业 2|\n",
    "|七|4. 插值||基函数；Lagrange插值；差商；Newton插值|2|在线测试 B|\n",
    "|八|4. 插值||*Hermite插值；Python的数值计算库|2|课后作业 3|\n",
    "|九|5. 逼近||权函数；正交函数系；最小二乘法；*最优化算法引论|2|在线测试 C|\n",
    "|十|||实验：求根、插值和逼近|2|实验 2|\n",
    "|十一|6. 数值积分||Newton-Cotes求积；复化公式|2||\n",
    "|十二|6. 数值积分||Romberg求积；Gauss型求积|2|课后作业 4|\n",
    "|十三|||实验：数值积分|2|实验 3|\n",
    "|十四|7. 微分方程数值解||Euler法；Runge-Kutta法；*预估校正公式|2||\n",
    "|十五|7. 微分方程数值解||初值问题和边值问题；*微分方程组；有限差分法|2||\n",
    "|十六|7. 微分方程数值解||偏微分方程数值解|2|课后作业 5|\n",
    "|十七|||实验：微分方程数值解|2|实验 4|\n",
    "|十八|||复习|2|在线测试 D|\n",
    "\n",
    "每周 3 课时版本\n",
    "\n",
    "|周次|章|节|主要内容|学时|作业|\n",
    "|--|--|--|--|--|--|\n",
    "|一|0. 绪论||课程安排；考核办法；数学基础；计算机基础；学习方法|1||\n",
    "||1. 误差||浮点数；绝对误差和相对误差；有效数字；误差的传播；Python语言基础|2|安装 Python 环境|\n",
    "|二|2. 数值线性代数||求解线性方程组的直接法；向量范数和矩阵范数；条件数；求解线性方程组的迭代法|3|在线测验 A；课后作业 1|\n",
    "|三|3. 方程求根||方程和根；二分法；不动点迭代法；Newton法及其变体|3|课后作业 2|\n",
    "|四|||实验：求解线性方程组|2|实验 1|\n",
    "||4. 插值||基函数；Lagrange插值；差商|1|在线测试 B|\n",
    "|五|4. 插值||Newton插值|1||\n",
    "||5. 逼近||权函数；正交函数系；最小二乘法；Python的数值计算库|2|在线测试 C；课后作业 3|\n",
    "|六|||实验：求根、插值和逼近|2|实验 2|\n",
    "||6. 数值积分||Newton-Cotes求积|1||\n",
    "|七|6. 数值积分||复化公式；Romberg求积；Gauss型求积|3|课后作业 4|\n",
    "|八|||实验：数值积分|2|实验 3|\n",
    "||7. 微分方程数值解||Euler法|1||\n",
    "|九|7. 微分方程数值解||Runge-Kutta法；*预估校正公式；有限差分法|3||\n",
    "|十|7. 微分方程数值解||初值问题和边值问题；偏微分方程数值解|3|课后作业 5|\n",
    "|十一|7. 微分方程数值解||*微分方程组|1||\n",
    "||||实验：微分方程数值解|2|实验 4|\n",
    "|十二|||复习|3|在线测试 D|\n",
    "\n",
    "#### 教材\n",
    "- 《计算方法（Python语言版）》马军，凌永祥等, 西安交通大学出版社, 2022, ISBN:9787569327380\n",
    "\n",
    "#### 参考书\n",
    "- 《现代数值计算》(第 3 版)同济大学数学科学学院编，人民邮电出版社，2023， ISBN:9787115613400\n",
    "- 《Python 数据结构与算法分析》(第 2 版)布拉德利·米勒、戴维·拉努姆著, 人 民邮电出版社, 2019, ISBN:9787115517210\n",
    "\n",
    "#### 考核\n",
    "\n",
    "|类|小类|形式说明|比值|支撑|\n",
    "|--|--|--|--|--|\n",
    "|平时|课后作业|简答、计算、设计、代码等题型，巩固课堂所学|20%|--|\n",
    "|平时|在线测验|单选题，强化基础概念，培养认知反馈|10%|--|\n",
    "|实验|实验代码|Python代码|20%|--|\n",
    "|实验|实验报告|对实验过程的说明书|10%|--|\n",
    "|考试|简答题|运用所学概念分析问题|10%|--|\n",
    "|考试|计算题|运用公式和算法求解问题|10%|--|\n",
    "|考试|设计题|综合本课程的重要知识点分析复杂问题并提出见解|20%|--|"
   ]
  },
  {
   "cell_type": "markdown",
   "id": "98c4944f-b140-4011-947a-51c0ee0950b5",
   "metadata": {},
   "source": [
    "### 欢迎来到不精确的世界\n",
    "\n",
    "计算方法利用数值分析来设计满足要求的高效的数值算法. \n",
    "\n",
    "**数值分析**(numerical analysis)是对使用数值近似(而不是符号操作)来明确所定义的数学问题的算法研究.\n",
    "\n",
    "> 【例 0.1】\n",
    ">\n",
    "> 求关于 $x$ 的方程 $x^2=2$，其中 $x\\in\\mathbb{R}$.\n",
    "\n",
    "该问题的**解析解**(analytical solution)是 $x = ± \\sqrt{2}$，其中 $\\sqrt{2}$ 是一个无理数.\n",
    "\n",
    "对于实际或工程应用，可以使用足够接近的有理数形式的近似值代替. 古代的巴比伦人采用了改写方程式的方法，他们的算法如下\n",
    "\n",
    "$$x^2 = 2 \\implies x\\cdot x = 2 \\implies x = \\frac{2}{x} \\implies x+x = x+\\frac{2}{x} \\implies x=\\frac{x+\\displaystyle\\frac{2}{x}}{2}$$\n",
    "\n",
    "利用它进一步得到**迭代**(iterative)公式\n",
    "\n",
    "$$x_n=\\frac{x_{n-1}+\\displaystyle\\frac{2}{x_{n-1}}}{2}$$\n",
    "\n",
    "其中，$n$ 是整数且 $n > 0$.\n",
    "\n",
    "用这个迭代式可以从 $x$ 的**初值**(initial value)开始逐步计算下去\n",
    "\n",
    "1. 设初值 $x_0 = 1$，验证 $x_0^2=1$，不满足方程 $x^2=2$\n",
    "2. 计算 $\\displaystyle x_1=\\frac{x_0+\\displaystyle\\frac{2}{x_0}}{2}=1.5$，验证 $x_1^2=2.25$，不满足方程 $x^2=2$\n",
    "3. 计算 $\\displaystyle x_2=\\frac{x_1+\\displaystyle\\frac{2}{x_1}}{2}=1.4167$，验证 $x_2^2=2.007$，不满足方程 $x^2=2$\n",
    "4. 计算 $\\displaystyle x_3=\\frac{x_2+\\displaystyle\\frac{2}{x_2}}{2}=1.41422$，验证 $x_3^2=2.00002$，不满足方程 $x^2=2$\n",
    "5. 计算 $\\displaystyle x_4=\\frac{x_3+\\displaystyle\\frac{2}{x_3}}{2}=1.414214$，验证 $x_4^2$...\n",
    "\n",
    "此过程达到指定精度后停止."
   ]
  },
  {
   "cell_type": "code",
   "execution_count": 1,
   "id": "73f2c1a1-f975-4324-9668-e2cde8a8c4b3",
   "metadata": {},
   "outputs": [],
   "source": [
    "# 定义一个函数，用来实现巴比伦法的迭代公式\n",
    "def iteration_step(x):\n",
    "    # 用表达式计算，注意 Python 的除法运算的结果是浮点型\n",
    "    return (x + 2/x) / 2"
   ]
  },
  {
   "cell_type": "code",
   "execution_count": 2,
   "id": "22141e62-9a97-40f1-a5f3-bab5d0e2e926",
   "metadata": {},
   "outputs": [
    {
     "data": {
      "text/plain": [
       "[1.5, 1.4166666666666665, 1.4142156862745097]"
      ]
     },
     "execution_count": 2,
     "metadata": {},
     "output_type": "execute_result"
    }
   ],
   "source": [
    "# Python 允许连续赋值，下面的写法相当于先把数值 1 绑定给变量 x0，再将 x0 所指向的值绑定给新的变量 x\n",
    "x = x0 = 1\n",
    "\n",
    "# 浮点运算的精度\n",
    "eps = 1e-6\n",
    "# 用一个“列表”结构保存每一次迭代后的值\n",
    "xs = []\n",
    "# 用 while 循环实现“迭代”的概念\n",
    "# Python 拥有布尔型变量，True 和 False 是两个布尔常量\n",
    "while True:\n",
    "    # 调用函数 iteration_step()，以计算下一个值\n",
    "    x_next = iteration_step(x)\n",
    "    # 验证结果是否满足原方程\n",
    "    if (x_next * x_next - 2) < eps:\n",
    "        break\n",
    "    # 把每一次迭代后的结果保存到列表，append() 是列表结构的一个“方法”，方法可以视为“绑定到结构的函数”\n",
    "    xs.append(x_next)\n",
    "    # 将 x_next 的值绑定给变量 x，从而下一次调用函数 iteration_step() 时可以用最新值来计算\n",
    "    x = x_next\n",
    "\n",
    "# 在 Jupyter 中，可以直接使用变量名来查看其值，而无需使用 Python 的 print() 函数\n",
    "xs"
   ]
  },
  {
   "cell_type": "markdown",
   "id": "c0c2937b-c22b-42b2-819e-df89f3b31d10",
   "metadata": {},
   "source": [
    " 在每一次迭代中，需要用某种度量来计算近似解的误差. 在【例 0.1】中，我们采用回代计算结果到原方程的方法作为度量. \n",
    " \n",
    " 后面的课程，将根据误差理论量化的前后两个迭代值的接近程度. 一旦这两个值达到可接受的水平，我们就说计算已经**收敛**(convergence)."
   ]
  },
  {
   "cell_type": "markdown",
   "id": "39a5c70b-8581-4447-be50-d85cd4e88cb5",
   "metadata": {
    "tags": []
   },
   "source": [
    "### 数值计算方法的用途\n",
    "\n",
    "数值计算方法在生活、科学和工程等多个领域中都有广泛的应用，能够帮助我们解决各种实际问题. 下面看几个例子.\n",
    "\n",
    "#### 气候模型\n",
    "\n",
    "数值计算方法可以帮助科学家模拟大气和海洋的流动，预测天气变化和气候变暖等现象.\n",
    "\n",
    "气候模型是用来模拟和预测地球气候变化的复杂系统，它包括大气、海洋、陆地表面和冰盖等多个组成部分. 模型需要处理大量的物理、化学和生物过程的相互作用. \n",
    "\n",
    "在气候模型中，数值天气预报技术已经被广泛应用，特别是**偏微分方程**(Partial Differential Equation, PDE)的数值求解方法，例如，**有限差分法**(Finite Difference Method)和**有限元法**(Finite Element Method).\n",
    "\n",
    "<img src=\"./assets/pe.png\" width=\"480\" style=\"display: block;margin-left: auto;margin-right: auto;\" />\n",
    "\n",
    "$$\\begin{align*}\n",
    "\\frac{{\\rm{d}}u}{{\\rm{d}}t}-fv=-\\frac{1}{\\rho}\\frac{\\partial p}{\\partial x}&\\quad x \\text{分量的动量方程}\\\\\n",
    "\\frac{{\\rm{d}}v}{{\\rm{d}}t}-fu=-\\frac{1}{\\rho}\\frac{\\partial p}{\\partial y}&\\quad y \\text{分量的动量方程}\\\\\n",
    "\\frac{{\\rm{d}}p}{{\\rm{d}}z}=-\\rho g&\\quad \\text{静水平衡方程}\\\\\n",
    "\\frac{\\partial u}{\\partial x}+\\frac{\\partial v}{\\partial y}+\\frac{\\partial w}{\\partial z}=-\\frac{1}{\\rho}\\frac{{\\rm{d}}\\rho}{{\\rm{d}}t}&\\quad \\text{连续性方程（质量守恒）}\\\\\n",
    "c_p\\frac{{\\rm{d}}T}{{\\rm{d}}t}-\\alpha\\frac{{\\rm{d}}p}{{\\rm{d}}t}=Q&\\quad \\text{热力学能量方程}\\\\\n",
    "p=\\rho RT&\\quad \\text{热力学状态方程}\n",
    "\\end{align*}$$\n",
    "\n",
    "#### 人口模型\n",
    "\n",
    "人口学研究中，预测人口增长是一个重要任务，它涉及到资源分配、城市规划和环境保护等多个方面.\n",
    "\n",
    "人口增长模型通常可以通过**常微分方程**(Ordinary Differential Equation, ODE)来描述，如经典的 Logistic 增长模型.\n",
    "\n",
    "数值解法，如**欧拉方法**(Euler’s method)或**龙格-库塔方法**(Runge-Kutta method)，可以用于求解这些方程，从而模拟人口随时间的变化. 通过调整模型参数，可以预测不同生育率、死亡率和移民政策下的人口增长趋势.\n",
    "\n",
    "由 Pierre Verhulst (1845、1847) 首次发表的人口增长的基本方程大致如下\n",
    "\n",
    "$$\\frac{{\\rm{d}}N}{{\\rm{d}}t}=rN\\left(1-\\frac{N}{K}\\right)$$\n",
    "\n",
    "其中 $r$ 是 Malthus 参数（最大人口增长率），$K$ 是所谓的承载能力（即最大可持续人口）. 两边除以 $K$ 并定义 $x\\equiv N/K$ 则得到微分方程\n",
    "\n",
    "$$\\frac{{\\rm{d}}x}{{\\rm{d}}t}=rx(1-x)$$\n",
    "\n",
    "这个常微分方程有解析解\n",
    "\n",
    "$$x(t)=\\frac{1}{1+\\left(\\displaystyle\\frac{1}{x_0}-1\\right)e^{-rt}}$$\n",
    "\n",
    "或者以 $N$ 和 $K$ 的形式给出\n",
    "\n",
    "$$N(t)=\\frac{K}{1+\\left(\\displaystyle\\frac{K}{N_0}-1\\right)e^{-rt}}$$\n",
    "\n",
    "<img src=\"./assets/le.png\" width=\"480\" style=\"display: block;margin-left: auto;margin-right: auto;\" />\n",
    "\n",
    "#### 深度学习\n",
    "\n",
    "**深度学习**(deep learning)是机器学习的一个分支，它通过使用具有多层结构的神经网络来模拟人类学习过程. 深度学习算法的训练涉及到大量的数值计算，特别是在优化网络权重时，需要处理成千上万的参数和超参数.\n",
    "\n",
    "深度学习的底层运算大量依赖线性代数，特别是矩阵运算. **梯度下降**(gradient descent)及其变体(如随机梯度下降、Adam 等)是深度学习中用于优化网络权重的关键数值方法. \n",
    "\n",
    "此外，**反向传播**(backpropagation)算法是基于链式法则的算法，用于高效计算损失函数关于网络权重的梯. 所有这些计算过程都涉及大量的矩阵乘法、向量加法等线性代数运算.\n",
    "\n",
    "在深度学习中，模型参数 $\\theta$、输入数据、以及梯度，往往以矩阵或向量的形式出现. 梯度下降的核心思想是通过**迭代**的方式逐渐调整模型参数以最小化**损失函数**(loss function)，从而找到模型参数的最优解.\n",
    "\n",
    "定义一个损失函数 $L(\\theta)$ 来衡量模型预测值与实际值之间的差距. 这里的 $\\theta$ 表示模型的参数，可以是权重矩阵、偏置向量等. \n",
    "\n",
    "梯度是损失函数在参数空间中的局部斜率，指向损失函数增长最快的方向. 在数学上，梯度就是一个向量，其每个分量是损失函数关于相应参数的偏导数. 计算损失函数相对于模型参数的梯度，即 $\\nabla \\theta L(\\theta)$.\n",
    "\n",
    "<img src=\"./assets/le.png\" width=\"480\" style=\"display: block;margin-left: auto;margin-right: auto;\" />\n",
    "\n",
    "通过以下更新规则来迭代地调整参数 $\\theta$:\n",
    "\n",
    "$$\\theta_\\text{new}=\\theta_\\text{old}-\\eta\\nabla_\\theta L(\\theta_\\text{old})$$\n",
    "\n",
    "其中，$\\eta$ 是学习率，决定了在梯度方向上前进的步长大小."
   ]
  },
  {
   "cell_type": "markdown",
   "id": "410539ec-e7d2-4abe-aef6-08e0abfd42bb",
   "metadata": {},
   "source": [
    "### 问题求解与数学建模\n",
    "\n",
    "1. 用**理论**(theory)和**数据**(data)建立数学模型.\n",
    "2. 通过求解工具(计算机/统计方法/数值方法/图形等)得到数值或图形结果.\n",
    "3. 把结果表达出来.\n",
    "\n",
    "基本特征式\n",
    "\n",
    "$$\\text{因变量} = f\\left(\\text{自变量}; \\text{参数}; \\text{强制函数}\\right)$$\n",
    "\n",
    "#### 问题求解的案例\n",
    "\n",
    "> 【例 0.2】\n",
    ">\n",
    "> 如下图，已知伞兵降落时收到向上的作用力($F_\\text{上}$)和向下的作用力($F_\\text{下}$)，求伞兵降落的速度 $v$.\n",
    ">\n",
    "> <img src=\"./assets/parachutist.png\" width=\"240\" style=\"display: block;margin-left: auto;margin-right: auto;\" />\n",
    "\n",
    "首先进行受力分析. 假设伞兵的质量为 $m$，其受到的空气阻力 $F_\\text{上}$ 和重力 $F_\\text{下}$ 分别是\n",
    "\n",
    "$$\\begin{align*}\n",
    "F_\\text{上}&=-cv\\\\\n",
    "F_\\text{下}&=mg\n",
    "\\end{align*}$$\n",
    "\n",
    "其中 $c$ 是空气阻力和速度的比例系数，$g$ 是重力加速度.\n",
    "\n",
    "根据牛顿第二运动定律 $F=ma$，有\n",
    "\n",
    "$$\\begin{align*}\n",
    "a \\equiv \\frac{{\\rm{d}}\\,v}{{\\rm{d}}\\,t}&=\\frac{F_\\text{下}+F_\\text{上}}{m}\\\\\n",
    "&=g-\\frac{c}{m}v\n",
    "\\end{align*}$$\n",
    "\n",
    "我们得到一个关于 $v$ 的微分方程，它描述了所关注的问题. \n",
    "\n",
    "对于微分方程\n",
    "\n",
    "$$\\begin{equation}\n",
    "\\frac{dv}{dt}=g-\\frac{c}{m}v\n",
    "\\end{equation}$$\n",
    "\n",
    "可使用**分析的**(analytical)方式解这个微积分问题. \n",
    "\n",
    "如果伞兵最初是静止的，即在 $t=0$ 时刻 $v=0$，我们可以写出通解\n",
    "\n",
    "$$\\begin{equation}\n",
    "v(t)=\\frac{gm}{c}\\left(1-e^{-\\displaystyle\\frac{c}{m}t}\\right)\n",
    "\\end{equation}$$\n",
    "\n",
    "对照\n",
    "\n",
    "$$\n",
    "\\text{因变量} = f\\left(\\text{自变量}; \\text{参数}; \\text{强制函数}\\right)\n",
    "$$\n",
    "\n",
    "可知伞兵降落的运动速度基本规律满足\n",
    "\n",
    "$$\n",
    "v = f\\left(t; m, c; g\\right)\n",
    "$$\n",
    "\n",
    "下面使用 Python 编程表示这个解析解的结果"
   ]
  },
  {
   "cell_type": "code",
   "execution_count": 3,
   "id": "ea54b749-c17c-4231-bfd0-8d00dc9af7c1",
   "metadata": {},
   "outputs": [],
   "source": [
    "# 导入数学运算标准库\n",
    "import math\n",
    "# 导入向量运算库\n",
    "import numpy as np\n",
    "# 导入画图基础库\n",
    "import matplotlib.pyplot as plt"
   ]
  },
  {
   "cell_type": "code",
   "execution_count": 4,
   "id": "29b917cd-6173-4cf3-97fb-34c32a2535d4",
   "metadata": {},
   "outputs": [],
   "source": [
    "# 示例的伞兵质量\n",
    "m = 68.1 # kg\n",
    "# 示例的空气阻力\n",
    "c = 12.5 # kg/s"
   ]
  },
  {
   "cell_type": "code",
   "execution_count": 5,
   "id": "cdc129cd-6019-4f2c-a0bd-c9558c348519",
   "metadata": {},
   "outputs": [],
   "source": [
    "# 用函数表示通解的表达式，注意重力加速度 g 带有默认取值\n",
    "def v(t, c, m, g=9.81):\n",
    "    k = m / c\n",
    "    return g * k * (1 - math.exp(- t / k))"
   ]
  },
  {
   "cell_type": "code",
   "execution_count": 6,
   "id": "a6d67663-b8cf-476d-b7bb-fbee25ca602b",
   "metadata": {},
   "outputs": [
    {
     "data": {
      "text/plain": [
       "array([ 0,  2,  4,  6,  8, 10, 12, 14])"
      ]
     },
     "execution_count": 6,
     "metadata": {},
     "output_type": "execute_result"
    }
   ],
   "source": [
    "size = 2\n",
    "# 其中 step 是步长\n",
    "time = np.arange(15, step=size)\n",
    "\n",
    "time"
   ]
  },
  {
   "cell_type": "code",
   "execution_count": 7,
   "id": "5c669ce5-3a8e-4ef4-ae01-af7b646ed9eb",
   "metadata": {},
   "outputs": [
    {
     "data": {
      "text/plain": [
       "[0.0,\n",
       " 16.421720579200073,\n",
       " 27.797627475567978,\n",
       " 35.678120697377175,\n",
       " 41.13721718829596,\n",
       " 44.91892648723752,\n",
       " 47.538650327160724,\n",
       " 49.35342572499016]"
      ]
     },
     "execution_count": 7,
     "metadata": {},
     "output_type": "execute_result"
    }
   ],
   "source": [
    "# 解析解结果保存在列表中\n",
    "velocity = []\n",
    "\n",
    "# 依次调用解析解\n",
    "for t in time:\n",
    "    velocity.append(v(t, c, m))\n",
    "\n",
    "# 打印结果\n",
    "velocity"
   ]
  },
  {
   "cell_type": "code",
   "execution_count": 8,
   "id": "5923c4cb-dc07-4066-baba-38e1b9531421",
   "metadata": {},
   "outputs": [
    {
     "data": {
      "image/png": "[encoded data removed]",
      "text/plain": [
       "<Figure size 640x480 with 1 Axes>"
      ]
     },
     "metadata": {},
     "output_type": "display_data"
    }
   ],
   "source": [
    "# 初始化画图\n",
    "f = plt.figure()\n",
    "\n",
    "# 画图\n",
    "plt.plot(time, velocity, 'b-')\n",
    "f.savefig('./results/analytical.pdf', bbox_inches='tight')"
   ]
  },
  {
   "cell_type": "markdown",
   "id": "cfa1cb0d-d6f3-45b4-8202-bc576c9df2fd",
   "metadata": {},
   "source": [
    "可以通过重新表述数学问题来以**数值的**(numerical)方式解决这个问题，这样就可以通过算术运算来解决. \n",
    "\n",
    "回忆一下微积分中学到的**导数**(derivative)的定义\n",
    "\n",
    "$$\n",
    "\\frac{{\\rm{d}}\\,v}{{\\rm{d}}\\,t}=\\lim_{\\Delta t\\to 0}\\frac{\\Delta v}{\\Delta t}\n",
    "$$\n",
    "\n",
    "速度对时间的变化率可以近似表示成\n",
    "\n",
    "$$\n",
    "\\begin{equation}\n",
    "\\frac{{\\rm{d}}\\,v}{{\\rm{d}}\\,t}\\approx\\frac{\\Delta v}{\\Delta t}=\\frac{v(t_{i+1})-v(t_i)}{t_{i+1}-t_i}\n",
    "\\end{equation}$$\n",
    "\n",
    "式中，$\\Delta v$ 和 $\\Delta t$ 分别是有限区间内的速度差和时间差，$v(t_i)$ 是在时间 $t_i$ 处的速度，$v(t_{i+1})$ 是在稍后时间 $t_{i+1}$ 处的速度.\n",
    "\n",
    "将速度对时间变化率的近似式代入微分方程\n",
    "\n",
    "$$\\begin{equation}\n",
    "\\frac{dv}{dt}=g-\\frac{c}{m}v\n",
    "\\end{equation}$$\n",
    "\n",
    "得到\n",
    "\n",
    "$$\n",
    "\\frac{v(t_{i+1})-v(t_i)}{t_{i+1}-t_i}=g-\\frac{c}{m}v\n",
    "$$\n",
    "\n",
    "整理一下式子，可得求解速度的迭代公式\n",
    "\n",
    "$$\\begin{equation}\n",
    "v(t_{i+1})=v(t_i)+\\left[g-\\frac{c}{m}v(t_i)\\right](t_{i+1}-t_i)\n",
    "\\end{equation}$$\n",
    "\n",
    "这为我们提供了一种**迭代**方法，可以使用先前的速度值和时间值，以**代数运算**确定时间 $t_{i+1}$ 处的速度. 并进一步用时间 $t_{i+1}$ 处的速度去寻找下一个时间 $t_{i+2}$ 处的速度，以此类推.\n",
    "\n",
    "$$\n",
    "\\text{新值}=\\text{旧值}+\\text{斜率}\\times \\text{步长}\n",
    "$$\n",
    "\n",
    "下面使用 Python 代码迭代地计算伞兵速度的数值解."
   ]
  },
  {
   "cell_type": "code",
   "execution_count": 9,
   "id": "4e39d3e8-781f-42ae-a049-ea5d74749ef4",
   "metadata": {},
   "outputs": [],
   "source": [
    "# 定义数值解迭代式\n",
    "def y(c, m, s, g=9.81):\n",
    "    # 声明全局变量\n",
    "    global ti, vi\n",
    "    k = m / c\n",
    "    vi_next = vi + (g - vi / k) * s\n",
    "    ti += s\n",
    "    return vi_next"
   ]
  },
  {
   "cell_type": "code",
   "execution_count": 10,
   "id": "3a35d985-4bbb-4e7e-8805-dbb0c1cda0e9",
   "metadata": {},
   "outputs": [
    {
     "data": {
      "text/plain": [
       "[0,\n",
       " 19.62,\n",
       " 32.037356828193836,\n",
       " 39.89621261813736,\n",
       " 44.87002590075947,\n",
       " 48.01791653924718,\n",
       " 50.01019387432531,\n",
       " 51.2710918646611,\n",
       " 52.069105130204015]"
      ]
     },
     "execution_count": 10,
     "metadata": {},
     "output_type": "execute_result"
    }
   ],
   "source": [
    "# 设置数值解初始值\n",
    "ti = 0\n",
    "vi = 0\n",
    "# 数值解结果保存在列表中\n",
    "velocity_n = [0]\n",
    "\n",
    "# 对每一步调用迭代式\n",
    "for i in range(len(time)):\n",
    "    vi = y(c, m, size)\n",
    "    velocity_n.append(vi)\n",
    "\n",
    "# 打印结果\n",
    "velocity_n"
   ]
  },
  {
   "cell_type": "code",
   "execution_count": 11,
   "id": "a1141ae2-50ac-42cb-a417-245e89f6dcd6",
   "metadata": {},
   "outputs": [
    {
     "data": {
      "image/png": "[encoded data removed]",
      "text/plain": [
       "<Figure size 640x480 with 1 Axes>"
      ]
     },
     "metadata": {},
     "output_type": "display_data"
    }
   ],
   "source": [
    "# 初始化画图\n",
    "f = plt.figure()\n",
    "\n",
    "# 比较解析解和数值解的结果\n",
    "plt.plot(time, velocity_n[:len(time)], 'r.-', label='numerical')\n",
    "plt.plot(time, velocity, 'b-', label='analytical')\n",
    "plt.legend()\n",
    "f.savefig('./results/comparison.pdf', bbox_inches='tight')"
   ]
  },
  {
   "cell_type": "markdown",
   "id": "9eece235-2870-4186-80db-e9d728595039",
   "metadata": {},
   "source": [
    "对比近似的数值解和“精确”的解析解的结果，显然目前我们编写的数值解还有改进空间. 例如，可以减小**步长**(step size)."
   ]
  },
  {
   "cell_type": "code",
   "execution_count": 12,
   "id": "b57f18be-cd54-45c6-942e-beb7bcd47ee7",
   "metadata": {},
   "outputs": [
    {
     "data": {
      "image/png": "[encoded data removed]",
      "text/plain": [
       "<Figure size 640x480 with 1 Axes>"
      ]
     },
     "metadata": {},
     "output_type": "display_data"
    }
   ],
   "source": [
    "# 重新设置步长\n",
    "size = 0.5 # 数值越小，分割 time 的子区间就越多\n",
    "time = np.arange(15, step=size)\n",
    "\n",
    "# 解析解结果保存在列表中\n",
    "velocity = []\n",
    "\n",
    "# 依次调用解析解\n",
    "for t in time:\n",
    "    velocity.append(v(t, c, m))\n",
    "\n",
    "# 设置数值解初始值\n",
    "ti = 0\n",
    "vi = 0\n",
    "# 数值解结果保存在列表中\n",
    "velocity_n = [0]\n",
    "\n",
    "# 对每一步调用迭代式\n",
    "for i in range(len(time)):\n",
    "    vi = y(c, m, size)\n",
    "    velocity_n.append(vi)\n",
    "\n",
    "# 初始化画图\n",
    "f = plt.figure()\n",
    "\n",
    "# 比较解析解和数值解的结果\n",
    "plt.plot(time, velocity_n[:len(time)], 'r.-', label='numerical')\n",
    "plt.plot(time, velocity, 'b-', label='analytical')\n",
    "plt.legend()\n",
    "f.savefig('./results/comparison.pdf', bbox_inches='tight')"
   ]
  },
  {
   "cell_type": "markdown",
   "id": "62c341b0-2368-40ef-83c5-71ac9042982f",
   "metadata": {},
   "source": [
    "### Python 基础\n",
    "\n",
    "Python 是一种高级编程语言，以其清晰的语法和强大的库支持而闻名. 在数值计算领域，Python 特别受欢迎，原因包括:\n",
    "\n",
    "- 易于学习和使用，即使对于初学者.\n",
    "- 丰富的科学计算库，如 NumPy 和 Matplotlib，使得复杂的数值计算和数据可视化更简单.\n",
    "- 广泛的社区支持和丰富的学习资源.\n",
    "- 能够通过 Jupyter Notebook 进行交互式编程，促进学习和展示.\n",
    "\n",
    "#### 快速入门\n",
    "\n",
    "安装 Python 及其科学计算库可以通过多种方式，最简单的方法是使用 Anaconda 发行版，它包括 Python、NumPy、Matplotlib 和 Jupyter 等多个库:\n",
    "\n",
    "1. 访问 [https://www.anaconda.com/products/individual](https://www.anaconda.com/products/individual) 下载 Anaconda \n",
    "2. 根据操作系统安装 Anaconda\n",
    "3. 安装完成后，可以在命令行中输入以下命令来检查安装:\n",
    "    - `python --version` 检查 Python 版本\n",
    "    - `conda list` 查看已安装的包\n",
    "\n",
    "在 Python 中打印文本内容非常简单，只需一行代码:\n",
    "\n",
    "```python\n",
    "print(\"Hello, world!\")\n",
    "```\n",
    "\n",
    "让我们赶紧在 Jupyter 的代码框中试试吧."
   ]
  },
  {
   "cell_type": "code",
   "execution_count": 13,
   "id": "c06fc560-d757-4908-95f1-da226fbacd99",
   "metadata": {},
   "outputs": [
    {
     "name": "stdout",
     "output_type": "stream",
     "text": [
      "Hello, world!\n"
     ]
    }
   ],
   "source": [
    "print(\"Hello, world!\")"
   ]
  },
  {
   "cell_type": "markdown",
   "id": "870b710a-1c78-48a5-b9dd-83db2c247eb4",
   "metadata": {},
   "source": [
    "Python 是动态类型语言，这意味着在声明变量时不需要指定类型. Python 会在运行时自动推断变量类型.\n",
    "\n",
    "- 整数: `my_int = 7`\n",
    "- 浮点数: `my_float = 7.0`\n",
    "- 字符串: `my_string = \"Hello\"`\n",
    "\n",
    "使用类型提示可以提高代码的可读性:\n",
    "\n",
    "```python\n",
    "my_int: int = 7\n",
    "my_float: float = 7.0\n",
    "my_string: str = \"Hello\"\n",
    "```\n",
    "\n",
    "**类型提示**(type hint)是指定变量、类属性或函数参数或返回值的预期类型的注释. 虽然类型提示是可选的，但它们对静态类型检查器很有用，还可以帮助 IDE 完成代码补全和重构."
   ]
  },
  {
   "cell_type": "code",
   "execution_count": 14,
   "id": "d7c97c03-6a0d-4275-9024-d562d0478f1d",
   "metadata": {},
   "outputs": [],
   "source": [
    "my_int: int = 7\n",
    "my_float: float = 7.0\n",
    "my_string: str = \"Hello\""
   ]
  },
  {
   "cell_type": "markdown",
   "id": "b7b33720-4e51-44f9-99d4-b256dac34212",
   "metadata": {},
   "source": [
    "Python 支持基本的算术运算符，例如加(`+`)、减(`-`)、乘(`*`)和除(`/`)，以及取模(`%`)、幂(`**`)和整除(`//`):"
   ]
  },
  {
   "cell_type": "code",
   "execution_count": 15,
   "id": "bcf87137-c2ef-41d2-8557-67394495fb93",
   "metadata": {},
   "outputs": [],
   "source": [
    "addition = 2 + 2  # 加法\n",
    "subtraction = 5 - 2  # 减法\n",
    "multiplication = 2 * 3  # 乘法\n",
    "division = 8 / 2  # 除法\n",
    "modulus = 7 % 2  # 取模\n",
    "exponentiation = 2 ** 3  # 幂\n",
    "floor_division = 7 // 2  # 整除"
   ]
  },
  {
   "cell_type": "markdown",
   "id": "7b8fb369-8f7b-42fc-91e8-bfbfb64c50a4",
   "metadata": {},
   "source": [
    "Python 中的逻辑运算符包括逻辑与(`and`)、逻辑或(`or`)和逻辑非(`not`)，这些运算符通常用于条件表达式和控制流语句中."
   ]
  },
  {
   "cell_type": "code",
   "execution_count": 16,
   "id": "0f7545a9-dde0-4aa0-9fc1-9d0eed98fe53",
   "metadata": {},
   "outputs": [],
   "source": [
    "a = True\n",
    "b = False\n",
    "c = a and b  # 逻辑与\n",
    "d = a or b  # 逻辑或\n",
    "e = not a  # 逻辑非"
   ]
  },
  {
   "cell_type": "markdown",
   "id": "ab229744-68b2-4ab3-9c24-b4e53fa7d24e",
   "metadata": {},
   "source": [
    "Python 使用 `if`、`else` 和 `elif`(`else` + `if` 的缩合)等关键字进行条件控制，条件语句允许根据表达式的真值(`True` 或 `False`)执行不同的代码块."
   ]
  },
  {
   "cell_type": "code",
   "execution_count": 17,
   "id": "994507f7-314d-44e9-b78a-ed08b8c206b1",
   "metadata": {},
   "outputs": [
    {
     "name": "stdout",
     "output_type": "stream",
     "text": [
      "x is positive\n"
     ]
    }
   ],
   "source": [
    "x = 10\n",
    "if x > 0:\n",
    "    print(\"x is positive\")\n",
    "elif x < 0:\n",
    "    print(\"x is negative\")\n",
    "else:\n",
    "    print(\"x is zero\")"
   ]
  },
  {
   "cell_type": "markdown",
   "id": "c6241d3c-1fe2-49aa-9d98-7c50bad554ca",
   "metadata": {},
   "source": [
    "`for` 循环在 Python 中用于遍历序列(如列表或字符串)中的每个元素，它简洁且易于读写，是处理序列数据的强大工具. 例如"
   ]
  },
  {
   "cell_type": "code",
   "execution_count": 18,
   "id": "ecf532e5-305d-4161-9176-a1ff31da77bc",
   "metadata": {},
   "outputs": [
    {
     "name": "stdout",
     "output_type": "stream",
     "text": [
      "apple\n",
      "banana\n",
      "cherry\n"
     ]
    }
   ],
   "source": [
    "fruits = [\"apple\", \"banana\", \"cherry\"]\n",
    "for fruit in fruits:\n",
    "    print(fruit)"
   ]
  },
  {
   "cell_type": "markdown",
   "id": "df233208-08ac-4ef2-9a3e-6902a018aa66",
   "metadata": {},
   "source": [
    "`while` 循环在给定条件为真时重复执行一个代码块，它提供更灵活的控制方式，但需要注意避免无限循环."
   ]
  },
  {
   "cell_type": "code",
   "execution_count": 19,
   "id": "351335a1-b0f8-482e-96ca-5d7070c76d8d",
   "metadata": {},
   "outputs": [
    {
     "name": "stdout",
     "output_type": "stream",
     "text": [
      "0\n",
      "1\n",
      "2\n",
      "3\n",
      "4\n"
     ]
    }
   ],
   "source": [
    "count = 0\n",
    "while count < 5:\n",
    "    print(count)\n",
    "    count += 1"
   ]
  },
  {
   "cell_type": "markdown",
   "id": "9308212f-40ff-4d13-b1c5-ccb975e94e4f",
   "metadata": {},
   "source": [
    "列表是 Python 中用于存储项序列的数据结构. 列表是可变的，支持添加、删除和修改操作."
   ]
  },
  {
   "cell_type": "code",
   "execution_count": 20,
   "id": "8c42eac2-76aa-495d-8f3d-9922802a0e50",
   "metadata": {},
   "outputs": [
    {
     "name": "stdout",
     "output_type": "stream",
     "text": [
      "1\n"
     ]
    }
   ],
   "source": [
    "my_list = [1, 2, 3, 4, 5]\n",
    "print(my_list[0])  # 访问第一个元素\n",
    "my_list.append(6)  # 在末尾添加元素\n",
    "my_list.remove(2)  # 移除元素"
   ]
  },
  {
   "cell_type": "markdown",
   "id": "41e559bd-9a5b-4579-8593-d13b91f3e2d7",
   "metadata": {},
   "source": [
    "元组是**不可变的**(immutable)序列，用于存储一系列值. "
   ]
  },
  {
   "cell_type": "code",
   "execution_count": 21,
   "id": "253ff9cf-920a-42f0-967a-954e92c29b09",
   "metadata": {},
   "outputs": [
    {
     "name": "stdout",
     "output_type": "stream",
     "text": [
      "1\n",
      "Error!\n"
     ]
    }
   ],
   "source": [
    "my_tuple = (1, 2, 3)\n",
    "print(my_tuple[0])  # 访问第一个元素\n",
    "try:\n",
    "    my_tuple[0] = 2 # 尝试修改元祖中的元素将会失败\n",
    "except:\n",
    "    print(\"Error!\")"
   ]
  },
  {
   "cell_type": "markdown",
   "id": "0700322f-001a-4ae7-91ff-d21387d334ae",
   "metadata": {},
   "source": [
    "字典是一种存储键值对的数据结构，字典的**键**(key)必须是不可变类型，而值可以是任何类型."
   ]
  },
  {
   "cell_type": "code",
   "execution_count": 22,
   "id": "2a18fc9b-8c87-4c8e-9efb-c6abb2b31a5b",
   "metadata": {},
   "outputs": [
    {
     "name": "stdout",
     "output_type": "stream",
     "text": [
      "green\n"
     ]
    }
   ],
   "source": [
    "my_dict = {\"apple\": \"green\", \"banana\": \"yellow\"}\n",
    "print(my_dict[\"apple\"])  # 访问键\"apple\"对应的值\n",
    "my_dict[\"cherry\"] = \"red\"  # 添加新的键值对"
   ]
  },
  {
   "cell_type": "markdown",
   "id": "a4f56fba-2b91-4f51-949f-412c4642e3c2",
   "metadata": {},
   "source": [
    "集合是一个无序且不包含重复元素的集合数据类型，常用于去除重复元素和集合运算(如并集、交集等)."
   ]
  },
  {
   "cell_type": "code",
   "execution_count": 23,
   "id": "96f433a4-5366-483d-a640-bdd3cb5e150e",
   "metadata": {},
   "outputs": [
    {
     "name": "stdout",
     "output_type": "stream",
     "text": [
      "True\n"
     ]
    }
   ],
   "source": [
    "my_set = {1, 2, 3, 4, 5}\n",
    "print(2 in my_set)  # 检查元素是否在集合中\n",
    "my_set.add(6)  # 添加元素\n",
    "my_set.remove(3)  # 移除元素"
   ]
  },
  {
   "cell_type": "markdown",
   "id": "8e62e136-2f34-4d5f-be97-eaae3a7c7ede",
   "metadata": {},
   "source": [
    "在 Python 中，函数是使用 `def` 关键字声明的，可以接受参数并返回结果.\n",
    "\n",
    "下例展示了如何声明一个接受单个字符串参数 `name` 的函数 `greet()`，并返回一条问候语. 函数通过其名称后跟括号中的参数值来调用."
   ]
  },
  {
   "cell_type": "code",
   "execution_count": 24,
   "id": "8e417536-1a50-4a75-8f7f-3c7c99c6aa60",
   "metadata": {},
   "outputs": [
    {
     "name": "stdout",
     "output_type": "stream",
     "text": [
      "Hello, Alice!\n"
     ]
    }
   ],
   "source": [
    "def greet(name: str) -> str:\n",
    "    return \"Hello, \" + name + \"!\"\n",
    "\n",
    "print(greet(\"Alice\"))"
   ]
  },
  {
   "cell_type": "markdown",
   "id": "d705825c-d082-4777-9ace-17d9387b5013",
   "metadata": {},
   "source": [
    "`*args` 和 `**kwargs` 允许函数接受可变数量的参数，分别用于非关键字参数和关键字参数.\n",
    "\n",
    "接下来的例子中，`*args` 收集传参中额外的非键参数作为一个元组，而 `**kwargs` 收集额外的键参数作为一个字典."
   ]
  },
  {
   "cell_type": "code",
   "execution_count": 25,
   "id": "ccbfa04d-e421-476e-b499-287715ac4a49",
   "metadata": {},
   "outputs": [
    {
     "name": "stdout",
     "output_type": "stream",
     "text": [
      "1\n",
      "2\n",
      "3\n",
      "a 4\n",
      "b 5\n"
     ]
    }
   ],
   "source": [
    "def function(*args, **kwargs):\n",
    "    for arg in args:\n",
    "        print(arg)\n",
    "    for key in kwargs:\n",
    "        print(key, kwargs[key])\n",
    "\n",
    "function(1, 2, 3, a=4, b=5)"
   ]
  },
  {
   "cell_type": "markdown",
   "id": "f1e98697-28df-43d7-ac17-54ac6d27b66f",
   "metadata": {},
   "source": [
    "`lambda` 表达式提供了一种快速定义简单函数的方法，也称为匿名函数. \n",
    "\n",
    "下例通过 `lambda` 表达式创建了一个接受两个参数的函数，并返回它们的乘积. 这种形式适用于简短的、临时使用的函数，可以在需要函数对象的地方使用."
   ]
  },
  {
   "cell_type": "code",
   "execution_count": 26,
   "id": "805e6037-ee7f-4853-a67c-e03a5de951db",
   "metadata": {},
   "outputs": [
    {
     "name": "stdout",
     "output_type": "stream",
     "text": [
      "6\n"
     ]
    }
   ],
   "source": [
    "multiply = lambda x, y: x * y\n",
    "print(multiply(2, 3))"
   ]
  },
  {
   "cell_type": "markdown",
   "id": "931ff1ea-d6f3-417e-a47f-586a74c3e80c",
   "metadata": {},
   "source": [
    "**面向对象编程**(object-oriented programming, OOP)是 Python 支持的一种主要编程范式. 它允许开发者创建类，这些类定义了对象的数据结构和行为.\n",
    "\n",
    "- **类**(class): 定义了一组对象共享的属性和方法的模板.\n",
    "- **对象**(object): 根据类模板创建的实例.\n",
    "\n",
    "OOP 促进了代码的重用和模块化，使得复杂程序的开发和维护变得更加简单.\n",
    "\n",
    "在 Python 中，类通过 `class` 关键字定义. 对象是类的实例，可以通过调用类似函数的类名来创建:"
   ]
  },
  {
   "cell_type": "code",
   "execution_count": 27,
   "id": "a47c9184-ba84-407c-b01c-373486b4eba3",
   "metadata": {},
   "outputs": [
    {
     "name": "stdout",
     "output_type": "stream",
     "text": [
      "Buddy\n",
      "Woof!\n"
     ]
    }
   ],
   "source": [
    "class Dog:\n",
    "    def __init__(self, name: str):\n",
    "        self.name = name\n",
    "    def speak(self) -> str:\n",
    "        return \"Woof!\"\n",
    "\n",
    "my_dog = Dog(\"Buddy\")\n",
    "print(my_dog.name)\n",
    "print(my_dog.speak())"
   ]
  },
  {
   "cell_type": "markdown",
   "id": "b4c2976c-7b3c-4e28-bcc8-c8319f16de89",
   "metadata": {},
   "source": [
    "上面这个例子定义了一个 `Dog` 类，它有一个构造函数 `__init__` 和一个方法 `speak()`. 然后创建了这个类的一个实例 `my_dog`，并调用了它的方法.\n",
    "\n",
    "类的声明定义了类的结构，实例化是创建类的具体对象的过程. 下例中，`Car` 类包含了两个属性: `brand` 和 `model`. 通过提供品牌和型号参数来实例化这个类，可以创建一个 `Car` 对象."
   ]
  },
  {
   "cell_type": "code",
   "execution_count": 28,
   "id": "12191fbb-0ef9-4624-aaad-1aac09d966ad",
   "metadata": {},
   "outputs": [
    {
     "name": "stdout",
     "output_type": "stream",
     "text": [
      "My car is a Toyota Corolla.\n"
     ]
    }
   ],
   "source": [
    "class Car:\n",
    "    def __init__(self, brand: str, model: str):\n",
    "        self.brand = brand\n",
    "        self.model = model\n",
    "\n",
    "my_car = Car(\"Toyota\", \"Corolla\")\n",
    "print(f\"My car is a {my_car.brand} {my_car.model}.\")"
   ]
  },
  {
   "cell_type": "markdown",
   "id": "001144cb-c0f4-4922-ad6d-229efc8c851b",
   "metadata": {},
   "source": [
    "**继承**(inheritance)允许我们定义一个继承另一个类的属性和方法的类. **多态**(polymorphism)是指方法在不同的对象中的具体实现可以不同.\n",
    "\n",
    "下面的例子展示了一个基类 `Animal` 和两个继承自 `Animal` 的子类 `Dog` 和 `Cat`. 每个子类有自己的 `speak()` 方法实现，展示了多态性."
   ]
  },
  {
   "cell_type": "code",
   "execution_count": 29,
   "id": "b780d1cd-9d0d-4830-bf1a-6b9e6602187b",
   "metadata": {},
   "outputs": [
    {
     "name": "stdout",
     "output_type": "stream",
     "text": [
      "Woof!\n",
      "Meow!\n"
     ]
    }
   ],
   "source": [
    "class Animal:\n",
    "    def speak(self):\n",
    "        pass\n",
    "\n",
    "class Dog(Animal):\n",
    "    def speak(self):\n",
    "        return \"Woof!\"\n",
    "\n",
    "class Cat(Animal):\n",
    "    def speak(self):\n",
    "        return \"Meow!\"\n",
    "    \n",
    "animals = [Dog(), Cat()]\n",
    "for animal in animals:\n",
    "    print(animal.speak())"
   ]
  },
  {
   "cell_type": "markdown",
   "id": "b6aae00d-65f4-46df-8abd-e7202d737e07",
   "metadata": {},
   "source": [
    "Python 使用 `try` 和 `except` 语句进行错误处理:"
   ]
  },
  {
   "cell_type": "code",
   "execution_count": 30,
   "id": "d601cd08-d1b2-44cf-9871-37b8a0a4acb8",
   "metadata": {},
   "outputs": [
    {
     "name": "stdout",
     "output_type": "stream",
     "text": [
      "Cannot divide by zero!\n"
     ]
    }
   ],
   "source": [
    "try:\n",
    "    x = 1 / 0\n",
    "except ZeroDivisionError:\n",
    "    print(\"Cannot divide by zero!\")"
   ]
  },
  {
   "cell_type": "markdown",
   "id": "ae9ba03b-87d4-467c-a24f-a88158f68965",
   "metadata": {},
   "source": [
    "这个例子尝试执行除以零的操作，从而引发一次 `ZeroDivisionError` 错误. 使用 `except` 语句捕获这个错误，并打印一条错误消息."
   ]
  },
  {
   "cell_type": "markdown",
   "id": "cde26612-9946-46ea-a104-baaac36f6990",
   "metadata": {},
   "source": [
    "在 Python 中，包是一种组织多个模块的方式，它使用带点号(`.`)的模块命名空间规则. 例如，名为 `mypackage` 的包可能包含一个名为 `mymodule` 的模块.\n",
    "\n",
    "```python\n",
    "# 假设 mypackage/mymodule.py 包含如下函数\n",
    "def my_function():\n",
    "    print(\"Hello from my function!\")\n",
    "\n",
    "# 使用 mypackage中的mymodule 模块\n",
    "from mypackage import mymodule\n",
    "mymodule.my_function()\n",
    "```"
   ]
  },
  {
   "cell_type": "markdown",
   "id": "ae016bd3-96c0-4dca-bb8a-b7aa6c4be18a",
   "metadata": {},
   "source": [
    "#### NumPy 概述\n",
    "\n",
    "NumPy 是一个开源 Python 库，用于科学计算. 它提供了高性能的多维数组对象，以及用于处理这些数组的工具.\n",
    "\n",
    "- 创建数组: `import numpy as np; arr = np.array([1, 2, 3])`\n",
    "- 数组操作: 加法、乘法等\n",
    "- 线性代数、随机数生成、傅里叶变换等高级功能\n",
    "\n",
    "NumPy 是许多高级科学计算库的基础，是学习数据科学和数值计算的重要工具.\n",
    "\n",
    "#### Matplotlib 概述\n",
    "\n",
    "Matplotlib 是 Python 的一个绘图库，提供了一个类似于 MATLAB 的绘图系统.\n",
    "\n",
    "下面这个例子创建了一个简单的线图. Matplotlib 能够生成多种格式的图表，如线图、散点图、柱状图等，是数据可视化的强大工具."
   ]
  },
  {
   "cell_type": "code",
   "execution_count": 31,
   "id": "9b4cc233-8132-4c78-b723-9408481f058d",
   "metadata": {},
   "outputs": [
    {
     "data": {
      "image/png": "[encoded data removed]",
      "text/plain": [
       "<Figure size 640x480 with 1 Axes>"
      ]
     },
     "metadata": {},
     "output_type": "display_data"
    }
   ],
   "source": [
    "import matplotlib.pyplot as plt\n",
    "\n",
    "plt.plot([1, 2, 3, 4])\n",
    "plt.ylabel('some values')\n",
    "plt.show()"
   ]
  },
  {
   "cell_type": "markdown",
   "id": "a7f8c9f2-89e1-4985-90ea-cafd454609f1",
   "metadata": {},
   "source": [
    "#### Jupyter 概述\n",
    "\n",
    "Jupyter Notebook 是一个开源的 Web 应用程序，允许创建和共享包含实时代码、方程、可视化输出和解释性文本的文档.\n",
    "\n",
    "- 交互式数据科学和科学计算\n",
    "- 支持包括 Python 在内的 40 多种编程语言 • 通过浏览器运行代码，实时查看结果\n",
    "\n",
    "Jupyter 是学习 Python 和进行科学研究的重要工具，使数据分析和报告更加直观和可交互.\n",
    "\n",
    "你现在正在阅读的笔记就是用 Jupyter 制作的."
   ]
  }
 ],
 "metadata": {
  "kernelspec": {
   "display_name": "Python 3 (ipykernel)",
   "language": "python",
   "name": "python3"
  },
  "language_info": {
   "codemirror_mode": {
    "name": "ipython",
    "version": 3
   },
   "file_extension": ".py",
   "mimetype": "text/x-python",
   "name": "python",
   "nbconvert_exporter": "python",
   "pygments_lexer": "ipython3",
   "version": "3.11.4"
  }
 },
 "nbformat": 4,
 "nbformat_minor": 5
}
