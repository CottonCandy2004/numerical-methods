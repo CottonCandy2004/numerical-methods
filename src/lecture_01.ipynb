{
 "cells": [
  {
   "cell_type": "markdown",
   "id": "204e7fdf-715a-479a-85f8-a642203880fd",
   "metadata": {},
   "source": [
    "# 数值计算方法\n",
    "\n",
    "2024 年秋季学期本科\n",
    "\n",
    "## 第 1 章 误差\n",
    "\n",
    "### 误差\n",
    "\n",
    "#### 误差的来源\n",
    "\n",
    "**误差**(error)本意是指偏离准确. 在数值计算中，误差可能的来源包括:\n",
    "\n",
    "- 模型误差: 数学模型对实际问题作近似时产生的误差.\n",
    "- 离散误差: 把连续问题离散化时产生的误差.\n",
    "- 数据误差: 数据可能本身就已是近似的，或者实验观察手段造成的误差，后者又叫观测误差.\n",
    "- 截断误差: 对级数或无穷序列求和时，取其有限项而产生的误差.\n",
    "- 机器误差: 由于计算机的字长限制，在数值计算过程中取近似值产生的误差，主要是舍入误差.\n",
    "\n",
    "#### 绝对误差和相对误差\n",
    "\n",
    "假设某一个量的准确值为 $p$，它的一个近似值为 $p^*$.\n",
    "\n",
    "- **绝对误差**(absolute error)定义为 $p^* - p$(记为 $e^*$).\n",
    "- **相对误差**(relative error)定义为 $\\displaystyle\\frac{p^* - p}{p}$ (记为 $r^*$)，只要 $p\\ne 0$.\n",
    "\n",
    "> 【例 1.1】\n",
    ">\n",
    "> 计算在以下各情形中，用 $p^*$ 近似 $p$ 所产生的绝对误差和相对误差. \n",
    ">\n",
    "> 1. $p=0.3000\\times10^1,p^* =0.3100\\times10^1$;\n",
    "> 2. $p = 0.3000\\times10^{−3},p^* = 0.3100\\times10^{−3}$;\n",
    "> 3. $p=0.3000\\times10^4,p^* =0.3100\\times10^4$. \n",
    "\n",
    "套用绝对误差和相对误差的计算公式就可以得到\n",
    "\n",
    "|题号|绝对误差|相对误差|\n",
    "|--|--|--|\n",
    "|1 | $$0.1$$              | $$0.333\\overline{3}\\times10^{-1}$$ |\n",
    "|2 | $$0.1\\times10^{-4}$$ | $$0.333\\overline{3}\\times10^{-1}$$ |\n",
    "|3 | $$0.1\\times10^{3}$$  | $$0.333\\overline{3}\\times10^{-1}$$ |\n",
    "\n",
    "作为精度的度量，绝对误差常会产生误导. 【例 1.1】说明，对于不同的数量级，绝对误差变化很大，而相对误差能考虑数值本身的大小，在实用中更有意义.\n",
    "\n",
    "#### 误差界\n",
    "\n",
    "通常无法得到准确值 $p$，也不能算出准确的 $p^*$，只能根据测量工具或计算情况估计误差的绝对值不超过某个正数. **误差界**(error bound)即误差大小的上限. 一般来说，误差界越小，近似值越好.\n",
    "\n",
    "- 绝对误差的上界记作 $\\varepsilon$，即 $|p^*-p|\\le\\varepsilon$\n",
    "- 相对误差的上界记作 $\\delta$，即 $\\displaystyle\\left|\\frac{p^*-p}{p}\\right|\\le\\delta$\n",
    "\n",
    "### 计算机中的算术\n",
    "\n",
    "传统的数学允许的数字位数是无限的，但是计算机中的算术位数只能是有限的. 计算机只能表示近似的数值和运算，随之而来的问题是“多大程度上才能满足计算要求”.\n",
    "\n",
    "我们看一个例子"
   ]
  },
  {
   "cell_type": "code",
   "execution_count": 1,
   "id": "324a4710-ba8e-427d-a906-f7860ad3f844",
   "metadata": {},
   "outputs": [
    {
     "name": "stdout",
     "output_type": "stream",
     "text": [
      "不相等\n"
     ]
    }
   ],
   "source": [
    "a = 0.1\n",
    "b = 0.2\n",
    "c = 0.3\n",
    "\n",
    "result = a + b\n",
    "\n",
    "if result == c:\n",
    "    print(\"相等\")\n",
    "else:\n",
    "    print(\"不相等\")"
   ]
  },
  {
   "cell_type": "markdown",
   "id": "e20e54cd-d927-45cb-adf5-7a81f5580a43",
   "metadata": {},
   "source": [
    "数学上的正确并不能保证数值上的安全. 为了在计算机中“正确”比较两个数值，一个较好的方法是作差比较"
   ]
  },
  {
   "cell_type": "code",
   "execution_count": 2,
   "id": "3b3aad46-b133-4d1b-a23a-790392480ea5",
   "metadata": {},
   "outputs": [
    {
     "name": "stdout",
     "output_type": "stream",
     "text": [
      "相等\n"
     ]
    }
   ],
   "source": [
    "a = 0.1\n",
    "b = 0.2\n",
    "c = 0.3\n",
    "\n",
    "result = a + b\n",
    "\n",
    "if abs(result - c) < 1e-8:\n",
    "    print(\"相等\")\n",
    "else:\n",
    "    print(\"不相等\")"
   ]
  },
  {
   "cell_type": "markdown",
   "id": "70ee8a2b-c4ad-42b2-9f36-896a24b03418",
   "metadata": {},
   "source": [
    "为何把两个数相减之后，把它们的差与一个很小的数相比就可以作为判断两个数“相等”的方法，其背后的原理将在下面揭示.\n",
    "\n",
    "#### 实数\n",
    "\n",
    "任何正实数都可以化为标准型\n",
    "\n",
    "$$y=0.d_{1}d_{2}\\cdots d_{k}d_{k+1}d_{k+2}\\cdots\\times 10^n$$\n",
    "\n",
    "其中，$1\\le d_1\\le 9$，$0\\le d_i\\le 9$（$i=2,\\cdots,k$）\n",
    "\n",
    "对 $y$ 从它的第 $k$ 位舍去尾数，可得 $y$ 的浮点型表示，记为 $fl(y)$\n",
    "\n",
    "舍去尾数的方法有二：\n",
    "\n",
    "- **截断**(chopping)，舍去 $d_{k+1}d_{k+2}\\cdots$，得到 $fl(y)=0.d_{1}d_{2}\\cdots d_{k}\\times 10^n$\n",
    "- **舍入**(rounding)，先在 $y$ 的基础上加 $5\\times 10^{-(k+1)}$，对结果再行截断，得到 $fl(y)=0.\\delta_{1}\\delta_{2}\\cdots \\delta_{k}\\times 10^n$\n",
    "\n",
    "> 【例 1.2】\n",
    ">\n",
    "> 分别使用截断和舍入方法确定无理数 $\\pi=3.14159265\\dots$ 的5位数字\n",
    "\n",
    "把展开式改写成标准型 $\\pi=0.314159265\\dots\\times10^1$\n",
    "\n",
    "对于截断法，从第 6 位数字起舍去，得到 $fl(\\pi)=0.31415\\dots\\times10^1=3.1415$\n",
    "\n",
    "对于舍入法，先在 $\\pi$ 基础上加 $5\\times 10^{-6}$，即 $0.314164265\\dots\\times10^1$，对结果再行截断，得到 $fl(y)=0.31416\\dots\\times10^1=3.1416$\n",
    "\n",
    "#### 舍入误差\n",
    "\n",
    "用计算机进行实数运算时产生的误差叫做**舍入误差**(round-off error). \n",
    "\n",
    "在计算机内部，只有实数系内一个较小的子集用于表示所有的实数. 这个子集只包括有理数，并存储它们的小数和指数部分.\n",
    "\n",
    "#### 有效数字\n",
    "\n",
    "有效数字是用来表示测量精度的数字，用数学语言定义如下\n",
    "\n",
    "如果 $s$ 是满足 $$\\frac{|p-p^*|}{|p|}\\le 5\\times 10^{-s}$$ 的最大非负整数，则称数 $p^*$ 将 $p$ 近似到 $s$ 位**有效数字**(significant digits)\n",
    "\n",
    "#### 浮点数\n",
    "\n",
    "IEEE（电气与电子工程师学会）发布的标准 IEEE-754给出了二进制和十进制浮点数的标准.\n",
    "\n",
    "以 64 位浮点数为例，其规定：\n",
    "\n",
    "- 第 0 位是符号位，记为 $s$\n",
    "- 第 1 到 11 位是底数为 2 的指数位，记为 $e$\n",
    "- 第 12 到 63 位是尾数位，记为 $m$\n",
    "\n",
    "因此，浮点数的形式表示为\n",
    "\n",
    "$$(-1)^s 2^{e-1023}(1+m)$$\n",
    "\n",
    "> 【例 1.3】\n",
    ">\n",
    "> 64 位浮点数 `0 10000000011 1011100100010000000000000000000000000000000000000000` 相当于哪个十进制数？\n",
    "\n",
    "符号位 $s=0$\n",
    "\n",
    "指数位 $e=1\\cdot 2^{10}+0\\cdot 2^{9}+\\cdots+1\\cdot 2^{1}+1\\cdot 2^{0}=1027$\n",
    "\n",
    "尾数位 $\\displaystyle m=1\\cdot\\left(\\frac{1}{2}\\right)^{1}+0\\cdot\\left(\\frac{1}{2}\\right)^{2}+1\\cdot\\left(\\frac{1}{2}\\right)^{3}+\\cdots+0\\cdot\\left(\\frac{1}{2}\\right)^{11}+1\\cdot\\left(\\frac{1}{2}\\right)^{12}$\n",
    "\n",
    "因此\n",
    "\n",
    "$$\\begin{align*}\n",
    "(-1)^s 2^{e-1023}(1+m)&=(-1)^0\\cdot 2^{1027-1023}\\cdot\\left(1+\\left(\\frac{1}{2}+\\frac{1}{8}+\\frac{1}{16}+\\frac{1}{32}+\\frac{1}{256}+\\frac{1}{4096}\\right)\\right)\\\\&=27.56640625\n",
    "\\end{align*}$$\n",
    "\n",
    "#### 溢出\n",
    "\n",
    "仍然以 64 位系统为例\n",
    "\n",
    "<img src=\"./assets/floating.png\" width=\"480\" style=\"display: block;margin-left: auto;margin-right: auto;\" />\n",
    "\n",
    "- 当 $e=1$ 且 $m=0$ 时，能表示的**最小**（正）数值是 $2^{-1022}\\cdot(1+0)\\approx 2.2250738585072014\\times 10^{-308}$.\n",
    "- 当 $e=2046$ 且 $m=1-2^{-52}$ 时，能表示的**最大**数值是$ 2^{1023}\\cdot(1+(1-2^{-52}))\\approx 1.7976931348623157\\times 10^{308}$.\n",
    "\n",
    "绝对值位于以上两者之间的数是可表示的浮点数.\n",
    "\n",
    "我们说，绝对值小于 $2^{-1022}$ 时发生**下溢**(underflow)，绝对值大于 $2^{1023}\\cdot(2-2^{-52})$ 时发生**上溢**(overflow)."
   ]
  },
  {
   "cell_type": "markdown",
   "id": "baee8018-9243-4823-b41c-39f92e146818",
   "metadata": {},
   "source": [
    "下面通过代码来巩固关于这一节的内容，我们用圆周率 $\\pi$ 的计算机表示为例."
   ]
  },
  {
   "cell_type": "code",
   "execution_count": 3,
   "id": "ff55afdb-b021-4fc7-b829-24cb83b6c934",
   "metadata": {},
   "outputs": [
    {
     "name": "stdout",
     "output_type": "stream",
     "text": [
      "3.141592653589793\n"
     ]
    }
   ],
   "source": [
    "# 导入数学运算标准库中的常数pi\n",
    "from math import pi\n",
    "\n",
    "# 随手打印看看\n",
    "print(pi)"
   ]
  },
  {
   "cell_type": "code",
   "execution_count": 4,
   "id": "bffdc366-16ae-4141-b11e-29796d9082b0",
   "metadata": {},
   "outputs": [
    {
     "data": {
      "text/plain": [
       "Decimal('3.141592653589793115997963468544185161590576171875')"
      ]
     },
     "execution_count": 4,
     "metadata": {},
     "output_type": "execute_result"
    }
   ],
   "source": [
    "# 导入十进制定点小数库\n",
    "# 它提供了与学校算术完全一致的精准操作\n",
    "import decimal\n",
    "\n",
    "decimal.Decimal.from_float(pi)"
   ]
  },
  {
   "cell_type": "markdown",
   "id": "1a58e80a-c26a-4c2e-a6e2-f6208319edcc",
   "metadata": {},
   "source": [
    "事实上，我们用文本文件准备好了一个现成的 $\\pi$，使用 Python 打开记录文件."
   ]
  },
  {
   "cell_type": "code",
   "execution_count": 5,
   "id": "a155b214-4584-4d8c-9dd3-13d4778087d5",
   "metadata": {},
   "outputs": [
    {
     "name": "stdout",
     "output_type": "stream",
     "text": [
      "3.141592653589793238462643383279502884197169399375\n"
     ]
    }
   ],
   "source": [
    "# Python 使用 open() 打开磁盘上的文件\n",
    "f = open('./data/pi1000000.txt', 'r')\n",
    "\n",
    "# 倒带到索引位置 0\n",
    "f.seek(0)\n",
    "\n",
    "# 读取文件前 50 个字符\n",
    "pi_text = f.read(50)\n",
    "\n",
    "# 打印\n",
    "print(pi_text)"
   ]
  },
  {
   "cell_type": "markdown",
   "id": "12642c80-5821-4226-a8b7-d025afb02148",
   "metadata": {},
   "source": [
    "比较结果表明：无法从不精确的数值得到比它的精度更高的数值.\n",
    "\n",
    "还是要乖乖地指定精度才能做数值计算."
   ]
  },
  {
   "cell_type": "code",
   "execution_count": 6,
   "id": "e88fd16b-ec64-404c-ab4d-6ffdf99767ac",
   "metadata": {},
   "outputs": [],
   "source": [
    "# 定义一个函数\n",
    "def r_pi(n: int, pi: str) -> float:\n",
    "    '''\n",
    "        这是一个函数，它计算 𝜋 的不同近似值的相对误差.\n",
    "         n: 有效数字位数\n",
    "        pi: 作为参考的 𝜋 的精确表示\n",
    "    '''\n",
    "    \n",
    "    if n > 1:\n",
    "        n += 1 # 修正小数点位置的 bug\n",
    "    \n",
    "    p = decimal.Decimal(pi)\n",
    "    pa = decimal.Decimal(pi[:n])\n",
    "    \n",
    "    return (p - pa) / p"
   ]
  },
  {
   "cell_type": "code",
   "execution_count": 7,
   "id": "e6a99db3-6e5b-42fc-933b-351f8e08f87a",
   "metadata": {},
   "outputs": [
    {
     "name": "stdout",
     "output_type": "stream",
     "text": [
      "4.507034144862798538669741977e-2\n"
     ]
    }
   ],
   "source": [
    "# 测试用有效数字\n",
    "digits = 1\n",
    "\n",
    "# 检测有效数字是否超过精确值的表示能力\n",
    "if digits < len(pi_text):\n",
    "    r = r_pi(digits, pi_text)\n",
    "else:\n",
    "    r = float('nan')\n",
    "\n",
    "# 用格式化字符串的方式打印结果\n",
    "print(f'{r:e}')"
   ]
  },
  {
   "cell_type": "markdown",
   "id": "e904c4b1-65e7-4db2-a7a7-8a3dc5ce5d7d",
   "metadata": {},
   "source": [
    "### 误差的传播\n",
    "\n",
    "#### 推导\n",
    "设 $x^*$ 和 $y^*$ 分别是数 $x$ 和 $y$ 的近似值，根据误差界的定义，有 $$|x^*-x|\\le\\varepsilon_{x^*},\\quad |y^*-y|\\le\\varepsilon_{y^*}$$\n",
    "\n",
    "对于可微的二元函数 $z=f(x,y)$，考察用 $x^*$ 和 $y^*$ 分别近似 $x$ 和 $y$ 所产生的误差界. \n",
    "\n",
    "$$\\begin{align*}\n",
    "e_{z}^*=z^*-z&=f(x^*,y^*)-f(x,y)\\\\\n",
    "&=f(x^*, y^*)-\\left(f(x^*,y^*)+\\frac{\\partial f}{\\partial x}_{(x^*,y^*)}(x-x^*)+\\frac{\\partial f}{\\partial y}_{(x^*,y^*)}(y-y^*)+R^{(2)}\\right)\\\\\n",
    "&\\approx \\frac{\\partial f}{\\partial x}_{(x^*,y^*)}(x^*-x)+\\frac{\\partial f}{\\partial y}_{(x^*,y^*)}(y^*-y)\n",
    "\\end{align*}$$\n",
    "\n",
    "由此得到\n",
    "\n",
    "$$e_{z}^*\\approx\\frac{\\partial f}{\\partial x}_{(x^*,y^*)}e_x^*+\\frac{\\partial f}{\\partial y}_{(x^*,y^*)}e_y^*$$\n",
    "\n",
    "和\n",
    "\n",
    "$$r_{z}^*\\approx\\frac{x^*}{z^*}\\frac{\\partial f}{\\partial x}_{(x^*,y^*)}r_x^*+\\frac{y^*}{z^*}\\frac{\\partial f}{\\partial y}_{(x^*,y^*)}r_y^*$$\n",
    "\n",
    "这就是 $z$ 的绝对误差和相对误差随 $x$ 和 $y$ 的误差变化的依赖关系.\n",
    "\n",
    "#### 常见情况\n",
    "\n",
    "具体地，我们有以下常见情况\n",
    "\n",
    "| $z=f(x,y)$ | 绝对误差 $e_z$ | 相对误差 $r_z$ |\n",
    "|:--:|:--:|:--:|\n",
    "| $x\\pm y$ | $$e_x^*\\pm e_y^*$$ | $$\\displaystyle\\frac{x^*}{x^* \\pm y^*}r_x^*\\pm\\frac{y^*}{x^* \\pm y^*}r_y^*$$ |\n",
    "| $xy$     | $$y^*e_x^* + x^*e_y^*$$ | $$r_x^*+r_y^*$$ |\n",
    "| $x/y$    | $$\\displaystyle\\frac{y^*e_x^*-x^*e_y^*}{(y^*)^2}$$ | $$r_x^*-r_y^*$$ |\n",
    "\n",
    "> 【例 1.4】\n",
    ">\n",
    "> 测得某矩形场地的长 $l$ 的值为 $l^*=110 m$，宽 $w$ 的值为 $w^*=80 m$. 已知 $$|l-l^*|\\le 0.2 m\\,,\\quad|w-w^*|\\le 0.1 m$$ 求面积 $s=lw$ 的绝对误差界和相对误差界.\n",
    "\n",
    "面积的绝对误差界计算如下\n",
    "\n",
    "$$\\begin{align*}\n",
    "\\varepsilon_{s^*}&\\approx \\left|\\left(\\frac{\\partial s}{\\partial l}\\right)^*\\right|\\varepsilon_{l^*}+\\left|\\left(\\frac{\\partial s}{\\partial w}\\right)^*\\right|\\varepsilon_{w^*}\\\\\n",
    "&=80\\times 0.2+100\\times 0.1\\\\\n",
    "&=27\\quad(\\text{m}^2)\n",
    "\\end{align*}$$\n",
    "\n",
    "面积的相对误差界计算如下\n",
    "\n",
    "$$\\begin{align*}\n",
    "\\delta_{s^*}&=\\frac{\\varepsilon_{s^*}}{ |s^*| }=\\frac{\\varepsilon_{s^*}}{l^* \\cdot w^*}\\\\\n",
    "&\\approx \\frac{27}{8800}\\\\\n",
    "&=0.0031\n",
    "\\end{align*}\n",
    "$$\n",
    "\n",
    "#### 注意事项和处理技巧\n",
    "\n",
    "由于误差传播的问题，在计算机中进行运算时，要注意以下情况\n",
    "\n",
    "- 被小数除的**除法**运算或者被大数乘的**乘法**运算，绝对误差放大，相对误差不变\n",
    "- 几乎相等的两数之间的**减法**运算，损失有效数字\n",
    "- 大数与小数的**加法**运算，绝对误差较大\n",
    "\n",
    "此外，也有一些技巧可以使用，例如\n",
    "\n",
    "- 重构计算式子: 例如，求方程 $x^2+62.10x+1=0$ 的一个根 $x_1=\\frac{-b+\\sqrt{b^2-4ac}}{2a}$，分子出现相近两数相减，可以用有理化技巧重构式子为 $x_1=\\frac{-2c}{b+\\sqrt{b^2-4ac}}$. 注意，不要盲目使用重构，例如，同一个方程另一个根 $x_2=\\frac{-b-\\sqrt{b^2-4ac}}{2a}$，分子是相近两数相加，如果也如法炮制重构为 $x_1=\\frac{-2c}{b-\\sqrt{b^2-4ac}}$，不但分母出现相近两数相减，而且出现被小数除的现象.\n",
    "- 减少计算次数: 例如，求多项式 $P(x)=x^3-6.1x^2+3.2x+1.5$在$x=4.71$ 处的值. 直接逐项计算，需要时间复杂度为 $O(n^2)$ 的乘法运算和 $O(n)$ 的加法运算，但是改成嵌套计算的**秦九韶算法**（又名 Horner算法） $P(x)=((x-6.1)x+3.2)x+1.5$，只需线性阶的乘法运算和加法运算就可计算. 这种方法对减小舍入误差非常有效. \n",
    "\n",
    "### 数值算法的稳定性\n",
    "\n",
    "假设算法在实施的某个阶段引入大小为 $E_0>0$ 的误差，在其后的第 $n$ 次运算中的误差记为 $E_n$. \n",
    "\n",
    "- 若 $E_n\\approx nC\\cdot E_0$，其中 $C$ 是与 $n$ 无关的常数，则称此误差是**线性**(linear)增长.\n",
    "- 若 $E_n\\approx C^n\\cdot E_0$，其中 $C>1$ 是与 $n$ 无关的常数，则称此误差是**指数**(exponential)增长.\n",
    "\n",
    "如果初始数据变化很小时，算法产生的最终结果的变化也很小，则称该算法是**稳定的**(stable)，否则称**不稳定的**(unstable). \n",
    "\n",
    "如果在某些特定条件下的初始数据是稳定的，则称该算法是**条件稳定的**(conditionally stable). \n",
    "\n",
    "误差线性增长的算法通常不可避免，算法可认为是稳定的.\n",
    "\n",
    "误差指数增长的算法将导致令人无法接受的不精确性，算法是不稳定的."
   ]
  }
 ],
 "metadata": {
  "kernelspec": {
   "display_name": "Python 3 (ipykernel)",
   "language": "python",
   "name": "python3"
  },
  "language_info": {
   "codemirror_mode": {
    "name": "ipython",
    "version": 3
   },
   "file_extension": ".py",
   "mimetype": "text/x-python",
   "name": "python",
   "nbconvert_exporter": "python",
   "pygments_lexer": "ipython3",
   "version": "3.9.12"
  }
 },
 "nbformat": 4,
 "nbformat_minor": 5
}
