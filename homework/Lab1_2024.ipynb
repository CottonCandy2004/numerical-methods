{
 "cells": [
  {
   "cell_type": "markdown",
   "metadata": {},
   "source": [
    "# Lab1_2024"
   ]
  },
  {
   "cell_type": "markdown",
   "metadata": {},
   "source": [
    "## 实验⽬标\n",
    "1. 培养配置 Python 实验环境的技能\n",
    "2. 学会基础的 Python 基础语法，能够定义函数和导⼊库\n",
    "3. ⽣成实验⽤的数据和函数\n",
    "4. 验证⽅程求根的常⽤算法"
   ]
  },
  {
   "cell_type": "markdown",
   "metadata": {},
   "source": [
    "## 实验方法\n",
    "### 配置环境\n",
    "- 下载Python\n",
    "- 安装虚拟环境\n",
    "- 下载ipykernel核心\n",
    "- 下载VSCode插件\n",
    "- 下载必要的运行函数库\n",
    "\n",
    "### ⽅程求根实验\n",
    "- 生成实验数据\n",
    "- 使用要求方法进行求根"
   ]
  },
  {
   "cell_type": "markdown",
   "metadata": {},
   "source": [
    "## 实验实现"
   ]
  },
  {
   "cell_type": "markdown",
   "metadata": {},
   "source": [
    "## Generator"
   ]
  },
  {
   "cell_type": "code",
   "execution_count": 214,
   "metadata": {},
   "outputs": [
    {
     "name": "stdout",
     "output_type": "stream",
     "text": [
      "3 * x**2 + 3 * x - 2.0\n"
     ]
    }
   ],
   "source": [
    "def generate_func(school_number):\n",
    "# 确保输⼊是⼀个8位的整数\n",
    "    school_number_str = str(school_number)\n",
    "    if len(school_number_str) != 8:\n",
    "        raise ValueError(\"学号应为8位数字\")\n",
    "    # 从学号中提取系数\n",
    "    a = int(school_number_str[3])\n",
    "    b = int(school_number_str[5])\n",
    "    c = int(school_number_str[6:]) / 10\n",
    "    # 定义⼀个抛物线函数（⽬标函数）及其导函数\n",
    "    f = lambda x: a * x**2 + b * x - c\n",
    "    print(f\"{a} * x**2 + {b} * x - {c}\")\n",
    "    df = lambda x: 2 * a * x + b\n",
    "    # 定义从⽬标函数推得的⼀个⽤于不动点迭代的函数\n",
    "    g = lambda x: c / (a * x + b)\n",
    "    return f, df, g\n",
    "\n",
    "school_number = 23030320 # 换成你的学号\n",
    "my_f, my_df, g = generate_func(school_number)"
   ]
  },
  {
   "cell_type": "markdown",
   "metadata": {},
   "source": [
    "## Bisection Method"
   ]
  },
  {
   "cell_type": "code",
   "execution_count": 215,
   "metadata": {},
   "outputs": [],
   "source": [
    "def bisection_method(f, a, b, tau, N):\n",
    "    if f(a) * f(b) >= 0:\n",
    "        print(\"失败：f(a)和f(b)必须有不同的符号\")\n",
    "        return None, \"SignError\"\n",
    "\n",
    "    for n in range(1, N+1):\n",
    "        p = (a + b) / 2\n",
    "        fp = f(p)\n",
    "        \n",
    "        if abs(fp) < tau:\n",
    "            return p, \"Success\"\n",
    "        elif f(a) * fp < 0:\n",
    "            b = p\n",
    "        else:\n",
    "            a = p\n",
    "    \n",
    "    print(\"失败：达到最大迭代次数\")\n",
    "    return None, \"IteratorMax\""
   ]
  },
  {
   "cell_type": "markdown",
   "metadata": {},
   "source": [
    "## Fixed Point Iteration"
   ]
  },
  {
   "cell_type": "code",
   "execution_count": 216,
   "metadata": {},
   "outputs": [],
   "source": [
    "def fixed_point_iteration(g, x_0, tau, N):\n",
    "    x_n = x_0\n",
    "    for n in range(N):\n",
    "        try:\n",
    "            x_next = g(x_n)\n",
    "        except ZeroDivisionError:\n",
    "            return None, ZeroDivisionError\n",
    "        except OverflowError:\n",
    "            return None, OverflowError\n",
    "        if abs(x_next - x_n) < tau:\n",
    "            return x_next, \"Success\"\n",
    "        x_n = x_next\n",
    "    \n",
    "    print(\"失败：达到最大迭代次数\")\n",
    "    return None, \"IteratorMax\""
   ]
  },
  {
   "cell_type": "markdown",
   "metadata": {},
   "source": [
    "## Newton Method"
   ]
  },
  {
   "cell_type": "code",
   "execution_count": 217,
   "metadata": {},
   "outputs": [],
   "source": [
    "def newton_method(f, df, x0, tau, N):\n",
    "    x = x0\n",
    "    iterations = [x0]\n",
    "    \n",
    "    for n in range(N):\n",
    "        fn = f(x)\n",
    "        dfn = df(x)\n",
    "        if dfn == 0:\n",
    "            print(\"导数为零，迭代失败\")\n",
    "            return None, \"DFZero\", iterations\n",
    "        \n",
    "        x_n = x - fn / dfn\n",
    "        iterations.append(x_n)\n",
    "        \n",
    "        if abs(x_n - x) < tau:\n",
    "            return x_n, iterations, \"Success\"\n",
    "        \n",
    "        x = x_n\n",
    "    \n",
    "    print(\"失败：达到最大迭代次数\")\n",
    "    return None, \"IteratorMax\", iterations"
   ]
  },
  {
   "cell_type": "markdown",
   "metadata": {},
   "source": [
    "## Secant Method"
   ]
  },
  {
   "cell_type": "code",
   "execution_count": 218,
   "metadata": {},
   "outputs": [],
   "source": [
    "def secant_method(f, x_0, x_1, tau, N):\n",
    "    iterations = [x_0, x_1]  # 记录初始点\n",
    "\n",
    "    for n in range(N):\n",
    "        f_x_0 = f(x_0)\n",
    "        f_x_1 = f(x_1)\n",
    "        \n",
    "        if (f_x_1 - f_x_0) == 0:\n",
    "            print(\"失败：割线斜率为零\")\n",
    "            return None, \"DFZero\", iterations\n",
    "        \n",
    "        x_next = x_1 - f_x_1 * (x_1 - x_0) / (f_x_1 - f_x_0)\n",
    "        iterations.append(x_next)  # 记录当前迭代点\n",
    "\n",
    "        if abs(x_next - x_1) < tau:\n",
    "            return x_next, iterations, \"Success\"\n",
    "        \n",
    "        x_0, x_1 = x_1, x_next\n",
    "    \n",
    "    print(\"失败：达到最大迭代次数\")\n",
    "    return None, \"IteratorMax\", iterations"
   ]
  },
  {
   "cell_type": "markdown",
   "metadata": {},
   "source": [
    "## Progressing"
   ]
  },
  {
   "cell_type": "code",
   "execution_count": 219,
   "metadata": {},
   "outputs": [],
   "source": [
    "eps = 1e-10\n",
    "bisection = bisection_method(my_f, 0, 1, eps, 1000)\n",
    "if (bisection[0] != None):\n",
    "    bisection = round(bisection[0], 3)\n",
    "else:\n",
    "    bisection = bisection[1]\n",
    "fixed_point = fixed_point_iteration(my_f, eps, eps, 20)\n",
    "if (fixed_point[0] != None):\n",
    "    fixed_point = round(fixed_point[0], 3)\n",
    "else:\n",
    "    fixed_point = fixed_point[1]\n",
    "newton = newton_method(my_f, my_df, 0, eps, 1000)\n",
    "if (newton[0] != None):\n",
    "    newton = round(newton[0], 3)\n",
    "else:\n",
    "    newton = newton[1]\n",
    "secant = secant_method(my_f, 0, 1, eps, 1000)\n",
    "if (secant[0] != None):\n",
    "    secant = round(secant[0], 3)\n",
    "else:\n",
    "    secant = secant[1]"
   ]
  },
  {
   "cell_type": "code",
   "execution_count": 220,
   "metadata": {},
   "outputs": [
    {
     "name": "stdout",
     "output_type": "stream",
     "text": [
      "二分：0.457\n",
      "不动点：<class 'OverflowError'>\n",
      "牛顿：0.457\n",
      "割线：0.457\n"
     ]
    }
   ],
   "source": [
    "print(f\"二分：{bisection}\\n不动点：{fixed_point}\\n牛顿：{newton}\\n割线：{secant}\")"
   ]
  },
  {
   "cell_type": "markdown",
   "metadata": {},
   "source": [
    "## 实验总结\n",
    "-  遇到的问题：对方程求根方法不熟悉，翻阅讲义后解决"
   ]
  }
 ],
 "metadata": {
  "kernelspec": {
   "display_name": "numerical-methods",
   "language": "python",
   "name": "python3"
  },
  "language_info": {
   "codemirror_mode": {
    "name": "ipython",
    "version": 3
   },
   "file_extension": ".py",
   "mimetype": "text/x-python",
   "name": "python",
   "nbconvert_exporter": "python",
   "pygments_lexer": "ipython3",
   "version": "3.11.4"
  }
 },
 "nbformat": 4,
 "nbformat_minor": 2
}
