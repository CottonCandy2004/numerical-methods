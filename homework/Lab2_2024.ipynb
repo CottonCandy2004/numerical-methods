{
 "cells": [
  {
   "cell_type": "markdown",
   "metadata": {},
   "source": [
    "# Lab2_2024"
   ]
  },
  {
   "cell_type": "markdown",
   "metadata": {},
   "source": [
    "## 实验⽬标\n",
    "- 掌握数值线性代数的⼀般算法：LU 分解、SOR\n",
    "- 学会导⼊并使⽤数值计算库：numpy、scipy、matplotlib\n",
    "- ⽣成实验⽤的数据和函数\n",
    "- 学会使⽤线性代数建模并求解问题"
   ]
  },
  {
   "cell_type": "markdown",
   "metadata": {},
   "source": [
    "## 实验方法\n",
    "- 安装、调试python环境\n",
    "- 生成线性方程组\n",
    "- 使用SOR迭代法求解线性方程组"
   ]
  },
  {
   "cell_type": "markdown",
   "metadata": {},
   "source": [
    "## 实验实现"
   ]
  },
  {
   "cell_type": "code",
   "execution_count": 1,
   "metadata": {},
   "outputs": [],
   "source": [
    "import numpy as np\n",
    "def generate_matrix(school_number):\n",
    "    class_code = int(str(school_number)[-4:-2])\n",
    "    individual_code = int(str(school_number)[-2:])\n",
    "    n = class_code\n",
    "    A = np.zeros((n, n))\n",
    "    for i in range(n):\n",
    "        for j in range(n):\n",
    "            if i == j:\n",
    "                A[i, j] = individual_code\n",
    "            else:\n",
    "                A[i, j] = (individual_code % (j+1)) / (n+1)\n",
    "    b = np.array([(i + 1 + individual_code) * 2 for i in range(n)])\n",
    "    return A, b"
   ]
  },
  {
   "cell_type": "code",
   "execution_count": 2,
   "metadata": {},
   "outputs": [
    {
     "name": "stdout",
     "output_type": "stream",
     "text": [
      "A:\n",
      " [[20.   0.   0.5]\n",
      " [ 0.  20.   0.5]\n",
      " [ 0.   0.  20. ]]\n",
      "b:\n",
      " [42 44 46]\n"
     ]
    }
   ],
   "source": [
    "school_number = 23030320 # 换成你的学号\n",
    "A, b = generate_matrix(school_number)\n",
    "print(\"A:\\n\", A)\n",
    "print(\"b:\\n\", b)"
   ]
  },
  {
   "cell_type": "code",
   "execution_count": 3,
   "metadata": {},
   "outputs": [],
   "source": [
    "# from scipy.linalg import solve\n",
    "# # 解线性⽅程组Ax = b\n",
    "# x = solve(A, b)\n",
    "# print(x) # 输出解向量"
   ]
  },
  {
   "cell_type": "code",
   "execution_count": 4,
   "metadata": {},
   "outputs": [],
   "source": [
    "def sor(A, b, omega, initial_guess, tolerance=1e-10, max_iterations=1000):\n",
    "    n = len(b)\n",
    "    x = initial_guess.copy()\n",
    "    for iteration in range(max_iterations):\n",
    "        x_new = np.zeros_like(x)\n",
    "        for i in range(n):\n",
    "            s1 = np.dot(A[i, :i], x_new[:i])\n",
    "            s2 = np.dot(A[i, i+1:], x[i+1:])\n",
    "            x_new[i] = (b[i] - s1 - s2) / A[i, i]\n",
    "            x_new[i] = (1 - omega) * x[i] + omega * x_new[i]\n",
    "        \n",
    "        if np.linalg.norm(x_new - x) < tolerance:\n",
    "            return x_new, iteration\n",
    "        \n",
    "        x = x_new\n",
    "    \n",
    "    print(\"达到最⼤迭代次数，失败\")\n",
    "    return x, max_iterations"
   ]
  },
  {
   "cell_type": "code",
   "execution_count": 5,
   "metadata": {},
   "outputs": [
    {
     "name": "stdout",
     "output_type": "stream",
     "text": [
      "解决方案: [2.0425 2.1425 2.3   ]\n",
      "迭代次数: 38\n"
     ]
    }
   ],
   "source": [
    "initial_guess = np.zeros(3)\n",
    "omega = 1.5\n",
    "solution, iterations = sor(A, b, omega, initial_guess)\n",
    "\n",
    "print(f\"解决方案: {solution}\")\n",
    "print(f\"迭代次数: {iterations}\")"
   ]
  },
  {
   "cell_type": "markdown",
   "metadata": {},
   "source": [
    "## 实验总结\n",
    "- 迭代法相比较直接法，虽然不能直接通过⼀系列精确的算术运算找到⽅程组的精确解，但是在处理⼤型稀疏矩阵，不要求精确解的情况下更为有效。"
   ]
  }
 ],
 "metadata": {
  "kernelspec": {
   "display_name": "numerical-methods",
   "language": "python",
   "name": "python3"
  },
  "language_info": {
   "codemirror_mode": {
    "name": "ipython",
    "version": 3
   },
   "file_extension": ".py",
   "mimetype": "text/x-python",
   "name": "python",
   "nbconvert_exporter": "python",
   "pygments_lexer": "ipython3",
   "version": "3.11.4"
  }
 },
 "nbformat": 4,
 "nbformat_minor": 2
}
