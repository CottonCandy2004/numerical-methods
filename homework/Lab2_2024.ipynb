{
 "cells": [
  {
   "cell_type": "markdown",
   "metadata": {},
   "source": [
    "# Lab2_2024"
   ]
  },
  {
   "cell_type": "markdown",
   "metadata": {},
   "source": [
    "## 实验⽬标\n",
    "- 掌握数值线性代数的⼀般算法：LU 分解、SOR\n",
    "- 学会导⼊并使⽤数值计算库：numpy、scipy、matplotlib\n",
    "- ⽣成实验⽤的数据和函数\n",
    "- 学会使⽤线性代数建模并求解问题"
   ]
  },
  {
   "cell_type": "markdown",
   "metadata": {},
   "source": [
    "## 实验方法\n",
    "- 安装、调试python环境\n",
    "- 生成线性方程组\n",
    "- 使用SOR迭代法求解线性方程组"
   ]
  },
  {
   "cell_type": "markdown",
   "metadata": {},
   "source": [
    "## 实验实现"
   ]
  },
  {
   "cell_type": "code",
   "execution_count": 2,
   "metadata": {},
   "outputs": [],
   "source": [
    "import numpy as np\n",
    "def generate_matrix(school_number):\n",
    "    class_code = int(str(school_number)[-4:-2])\n",
    "    individual_code = int(str(school_number)[-2:])\n",
    "    n = class_code\n",
    "    A = np.zeros((n, n))\n",
    "    for i in range(n):\n",
    "        for j in range(n):\n",
    "            if i == j:\n",
    "                A[i, j] = individual_code\n",
    "            else:\n",
    "                A[i, j] = (individual_code % (j+1)) / (n+1)\n",
    "    b = np.array([(i + 1 + individual_code) * 2 for i in range(n)])\n",
    "    return A, b"
   ]
  },
  {
   "cell_type": "code",
   "execution_count": 3,
   "metadata": {},
   "outputs": [
    {
     "name": "stdout",
     "output_type": "stream",
     "text": [
      "A:\n",
      " [[20.   0.   0.5]\n",
      " [ 0.  20.   0.5]\n",
      " [ 0.   0.  20. ]]\n",
      "b:\n",
      " [42 44 46]\n"
     ]
    }
   ],
   "source": [
    "school_number = 23030320 # 换成你的学号\n",
    "A, b = generate_matrix(school_number)\n",
    "print(\"A:\\n\", A)\n",
    "print(\"b:\\n\", b)"
   ]
  },
  {
   "cell_type": "code",
   "execution_count": 4,
   "metadata": {},
   "outputs": [],
   "source": [
    "# from scipy.linalg import solve\n",
    "# # 解线性⽅程组Ax = b\n",
    "# x = solve(A, b)\n",
    "# print(x) # 输出解向量"
   ]
  },
  {
   "cell_type": "code",
   "execution_count": 7,
   "metadata": {},
   "outputs": [
    {
     "name": "stdout",
     "output_type": "stream",
     "text": [
      "Solution: [2.0425 2.1425 2.3   ]\n"
     ]
    }
   ],
   "source": [
    "def doolittle_decomposition(A):\n",
    "    \"\"\"\n",
    "    Perform Doolittle LU decomposition on the matrix A.\n",
    "    \n",
    "    Parameters:\n",
    "    A (np.array): The input square matrix to be decomposed.\n",
    "    \n",
    "    Returns:\n",
    "    L (np.array): Lower triangular matrix with ones on the diagonal.\n",
    "    U (np.array): Upper triangular matrix.\n",
    "    \"\"\"\n",
    "    n = A.shape[0]\n",
    "    L = np.zeros((n, n))\n",
    "    U = np.zeros((n, n))\n",
    "\n",
    "    for i in range(n):\n",
    "        # L is a unit lower triangular matrix, so we set the diagonal elements to 1\n",
    "        L[i, i] = 1.0\n",
    "        \n",
    "        # Calculate U's elements\n",
    "        for k in range(i, n):\n",
    "            s1 = sum(L[i, j] * U[j, k] for j in range(i))\n",
    "            U[i, k] = A[i, k] - s1\n",
    "\n",
    "        # Calculate L's elements\n",
    "        for k in range(i + 1, n):\n",
    "            s2 = sum(L[k, j] * U[j, i] for j in range(i))\n",
    "            L[k, i] = (A[k, i] - s2) / U[i, i]\n",
    "\n",
    "    return L, U\n",
    "\n",
    "def solve_linear_system(L, U, b):\n",
    "    \"\"\"\n",
    "    Solve the linear system Ax = b using the precomputed L and U matrices.\n",
    "    \n",
    "    Parameters:\n",
    "    L (np.array): The lower triangular matrix from LU decomposition.\n",
    "    U (np.array): The upper triangular matrix from LU decomposition.\n",
    "    b (np.array): The right-hand side vector of the equation.\n",
    "    \n",
    "    Returns:\n",
    "    x (np.array): The solution vector.\n",
    "    \"\"\"\n",
    "    n = L.shape[0]\n",
    "    y = np.zeros(n)\n",
    "    x = np.zeros(n)\n",
    "\n",
    "    # Solve Ly = b for y\n",
    "    for i in range(n):\n",
    "        y[i] = (b[i] - np.dot(L[i, :i], y[:i])) / L[i, i]\n",
    "\n",
    "    # Solve Ux = y for x\n",
    "    for i in range(n-1, -1, -1):\n",
    "        x[i] = (y[i] - np.dot(U[i, i+1:], x[i+1:])) / U[i, i]\n",
    "\n",
    "    return x\n",
    "\n",
    "# Decompose matrix A into L and U\n",
    "L, U = doolittle_decomposition(A)\n",
    "\n",
    "# Solve the linear system\n",
    "solution = solve_linear_system(L, U, b)\n",
    "\n",
    "print(\"Solution:\", solution)"
   ]
  },
  {
   "cell_type": "code",
   "execution_count": 5,
   "metadata": {},
   "outputs": [],
   "source": [
    "def sor(A, b, omega, initial_guess, tolerance=1e-10, max_iterations=1000):\n",
    "    n = len(b)\n",
    "    x = initial_guess.copy()\n",
    "    for iteration in range(max_iterations):\n",
    "        x_new = np.zeros_like(x)\n",
    "        for i in range(n):\n",
    "            s1 = np.dot(A[i, :i], x_new[:i])\n",
    "            s2 = np.dot(A[i, i+1:], x[i+1:])\n",
    "            x_new[i] = (b[i] - s1 - s2) / A[i, i]\n",
    "            x_new[i] = (1 - omega) * x[i] + omega * x_new[i]\n",
    "        \n",
    "        if np.linalg.norm(x_new - x) < tolerance:\n",
    "            return x_new, iteration\n",
    "        \n",
    "        x = x_new\n",
    "    \n",
    "    print(\"达到最⼤迭代次数，失败\")\n",
    "    return x, max_iterations"
   ]
  },
  {
   "cell_type": "code",
   "execution_count": 6,
   "metadata": {},
   "outputs": [
    {
     "name": "stdout",
     "output_type": "stream",
     "text": [
      "解决方案: [2.0425 2.1425 2.3   ]\n",
      "迭代次数: 38\n"
     ]
    }
   ],
   "source": [
    "initial_guess = np.zeros(3)\n",
    "omega = 1.5\n",
    "solution, iterations = sor(A, b, omega, initial_guess)\n",
    "\n",
    "print(f\"解决方案: {solution}\")\n",
    "print(f\"迭代次数: {iterations}\")"
   ]
  },
  {
   "cell_type": "code",
   "execution_count": null,
   "metadata": {},
   "outputs": [],
   "source": [
    "import matplotlib.pyplot as plt\n",
    "from statsmodels.regression.linear_model import WLS\n",
    "import statsmodels.api as sm\n",
    "# 权重通常是根据数据点的可靠性来确定的，这里我们简单地假设靠近中间的数据点更可靠\n",
    "weights = 1 / (1 + np.abs(x - np.median(x)))\n",
    "\n",
    "# 准备数据进行WLS\n",
    "X = sm.add_constant(x)  # 添加截距项\n",
    "wls_model = WLS(y_noisy, X, weights=weights)\n",
    "results = wls_model.fit()\n",
    "\n",
    "# 获取拟合结果\n",
    "y_pred = results.predict(X)\n",
    "\n",
    "# 绘图\n",
    "plt.figure(figsize=(10, 6))\n",
    "plt.scatter(x, y_noisy, label='Noisy data', color='blue')\n",
    "plt.plot(x, y_true, label='True relationship', linestyle='--', color='green')\n",
    "plt.plot(x, y_pred, label='WLS fit', color='red')\n",
    "plt.title('Weighted Least Squares Regression')\n",
    "plt.xlabel('x')\n",
    "plt.ylabel('y')\n",
    "plt.legend()\n",
    "plt.show()"
   ]
  },
  {
   "cell_type": "markdown",
   "metadata": {},
   "source": [
    "## 实验总结\n",
    "- 迭代法相比较直接法，虽然不能直接通过⼀系列精确的算术运算找到⽅程组的精确解，但是在处理⼤型稀疏矩阵，不要求精确解的情况下更为有效。"
   ]
  }
 ],
 "metadata": {
  "kernelspec": {
   "display_name": "numerical-methods",
   "language": "python",
   "name": "python3"
  },
  "language_info": {
   "codemirror_mode": {
    "name": "ipython",
    "version": 3
   },
   "file_extension": ".py",
   "mimetype": "text/x-python",
   "name": "python",
   "nbconvert_exporter": "python",
   "pygments_lexer": "ipython3",
   "version": "3.11.4"
  }
 },
 "nbformat": 4,
 "nbformat_minor": 2
}
