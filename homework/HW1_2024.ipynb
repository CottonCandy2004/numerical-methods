{
 "cells": [
  {
   "cell_type": "markdown",
   "metadata": {},
   "source": [
    "IDE_INFO:\n",
    "```\n",
    "Visual Studio Code\n",
    "版本: 1.92.2 (system setup)\n",
    "提交: fee1edb8d6d72a0ddff41e5f71a671c23ed924b9\n",
    "日期: 2024-08-14T17:29:30.058Z\n",
    "Electron: 30.1.2\n",
    "ElectronBuildId: 9870757\n",
    "Chromium: 124.0.6367.243\n",
    "Node.js: 20.14.0\n",
    "V8: 12.4.254.20-electron.0\n",
    "OS: Windows_NT x64 10.0.22631\n",
    "```\n",
    "\n",
    "Kernel Info:\n",
    "```\n",
    "Python 3.11.4\n",
    "virtualenv  20.26.4\n",
    "requestments:\n",
    "Package           Version\n",
    "----------------- -----------\n",
    "asttokens         2.4.1\n",
    "colorama          0.4.6\n",
    "comm              0.2.2\n",
    "contourpy         1.3.0\n",
    "cycler            0.12.1\n",
    "debugpy           1.8.5\n",
    "decorator         5.1.1\n",
    "executing         2.1.0\n",
    "fonttools         4.54.1\n",
    "ipykernel         6.29.5\n",
    "ipython           8.27.0\n",
    "jedi              0.19.1\n",
    "jupyter_client    8.6.3\n",
    "jupyter_core      5.7.2\n",
    "kiwisolver        1.4.7\n",
    "matplotlib        3.9.2\n",
    "matplotlib-inline 0.1.7\n",
    "nest-asyncio      1.6.0\n",
    "numpy             2.1.1\n",
    "packaging         24.1\n",
    "parso             0.8.4\n",
    "pillow            10.4.0\n",
    "pip               24.2\n",
    "platformdirs      4.3.6\n",
    "prompt_toolkit    3.0.47\n",
    "psutil            6.0.0\n",
    "pure_eval         0.2.3\n",
    "Pygments          2.18.0\n",
    "pyparsing         3.1.4\n",
    "python-dateutil   2.9.0.post0\n",
    "pywin32           306\n",
    "pyzmq             26.2.0\n",
    "setuptools        74.1.2\n",
    "six               1.16.0\n",
    "stack-data        0.6.3\n",
    "tornado           6.4.1\n",
    "traitlets         5.14.3\n",
    "typing_extensions 4.12.2\n",
    "wcwidth           0.2.13\n",
    "wheel             0.44.0\n",
    "```\n",
    "\n",
    "Code by [CottonCandy2024](https://github.com/CottonCandy2004)"
   ]
  },
  {
   "cell_type": "markdown",
   "metadata": {},
   "source": [
    "# Homework1_2024\n",
    "## Question 1\n",
    "> "
   ]
  },
  {
   "cell_type": "code",
   "execution_count": 1,
   "metadata": {},
   "outputs": [],
   "source": [
    "import math"
   ]
  },
  {
   "cell_type": "code",
   "execution_count": 2,
   "metadata": {},
   "outputs": [
    {
     "name": "stdout",
     "output_type": "stream",
     "text": [
      "Z*=4.242640687119286\n"
     ]
    }
   ],
   "source": [
    "def f(x, y, t):\n",
    "    return x**2*y*math.sin(t)\n",
    "\n",
    "x = 2.0\n",
    "y = 1.5\n",
    "t = math.pi/4\n",
    "result = f(x, y, t)\n",
    "print(f\"Z*={result}\")"
   ]
  },
  {
   "cell_type": "code",
   "execution_count": 3,
   "metadata": {},
   "outputs": [
    {
     "name": "stdout",
     "output_type": "stream",
     "text": [
      "ε=0.31915798295426523\n"
     ]
    }
   ],
   "source": [
    "x += 0.05\n",
    "y += 0.02\n",
    "t += 0.01\n",
    "positive_sigma = f(x, y, t) - result\n",
    "x -= 0.10\n",
    "y -= 0.04\n",
    "t -= 0.02\n",
    "negative_sigma = result - f(x, y, t)\n",
    "# print(positive_sigma)\n",
    "# print(negative_sigma)\n",
    "\n",
    "print(f\"ε={max(positive_sigma, negative_sigma)}\")"
   ]
  },
  {
   "cell_type": "markdown",
   "metadata": {},
   "source": [
    "## Question 2\n",
    "> "
   ]
  },
  {
   "cell_type": "markdown",
   "metadata": {},
   "source": [
    "系数矩阵的条件数刻画了线性系统的形态. 当条件数 $K({\\boldsymbol{A}})$ 接近 1 时，矩阵 $\\boldsymbol{A}$ 是良态，数值稳定性好；反之 $K({\\boldsymbol{A}})$ 偏离 1 时，矩阵 $\\boldsymbol{A}$ 是病态，数值稳定性较差."
   ]
  },
  {
   "cell_type": "markdown",
   "metadata": {},
   "source": [
    "### Example\n",
    "令 $ {\\boldsymbol{A_{1}x}} = {\\boldsymbol{b_{1}}}$，${\\boldsymbol{A_{2}x}} = \\boldsymbol{b_{2}} $，\n",
    "\n",
    "其中：\n",
    "${\\boldsymbol{A_{1}}}=\\begin{bmatrix}\n",
    "1 & 0 \\\\\n",
    "0 & 1 \\\\\n",
    "\\end{bmatrix}$ ，\n",
    "${\\boldsymbol{A_{2}}}=\\begin{bmatrix}\n",
    "1 & 0.999 \\\\\n",
    "1 & 1.001 \\\\\n",
    "\\end{bmatrix}$ 。\n",
    "\n",
    "对于 ${\\boldsymbol{A_{1}}}$ ，其条件数为 $\\lVert{\\boldsymbol{A_{1}}}\\rVert_1 \\lVert{\\boldsymbol{A_{1}}^{-1}}\\rVert_1 = 1 \\times 1 = 1$ ，是良态矩阵；\n",
    "\n",
    "对于 ${\\boldsymbol{A_{2}}}$ ，其条件数为 $\\lVert{\\boldsymbol{A_{2}}}\\rVert_1 \\lVert{\\boldsymbol{A_{2}}^{-1}}\\rVert_1 = 2 \\times 1000.5 = 2001$ ，是病态矩阵。\n",
    "\n",
    "现对其进行扰动，对右端项 $\\boldsymbol{b}$ 引进一个微小扰动 $\\delta{\\boldsymbol{b}}$，则它的解 $\\boldsymbol{x}$ 产生扰动 $\\delta{\\boldsymbol{x}}$\n",
    "$$ \\because \\delta{\\boldsymbol{x}} = {\\boldsymbol{A}} ^ {-1} \\delta{\\boldsymbol{b}} $$\n",
    "$$ \\therefore \\delta{\\boldsymbol{x_{1}}} = 1\\delta{\\boldsymbol{b}} $$\n",
    "$$ \\delta{\\boldsymbol{x_{2}}} = 500\\delta{\\boldsymbol{b}} $$\n",
    "$$ 500\\delta{\\boldsymbol{b}} >> 1\\delta{\\boldsymbol{b}} $$\n",
    "$ \\therefore $ 条件数越大的矩阵，其在计算中越容易导致不确定性。"
   ]
  },
  {
   "cell_type": "markdown",
   "metadata": {},
   "source": [
    "## Question 3\n",
    ">"
   ]
  },
  {
   "cell_type": "markdown",
   "metadata": {},
   "source": [
    "对线性方程组 ${\\boldsymbol{Ax}}={\\boldsymbol{b}}$ 进行扰动分析，对右端项 $\\boldsymbol{b}$ 引进一个微小扰动 $\\delta{\\boldsymbol{b}}$，则它的解 $\\boldsymbol{x}$ 产生扰动 $\\delta{\\boldsymbol{x}}$，即 \n",
    "$${\\boldsymbol{A}}({\\boldsymbol{x}}+\\delta{\\boldsymbol{x}})={\\boldsymbol{b}}+\\delta{\\boldsymbol{b}}$$ \n",
    "于是有 \n",
    "$$\\delta{\\boldsymbol{x}}={\\boldsymbol{A}}^{-1}\\delta{\\boldsymbol{b}}$$ \n",
    "将原方程和这个方程两边取范数，可得 \n",
    "$$\\lVert{\\boldsymbol{b}}\\rVert\\le\\lVert{\\boldsymbol{A}}\\rVert\\lVert{\\boldsymbol{x}}\\rVert\\quad\\text{和}\\quad\\lVert\\delta{\\boldsymbol{x}}\\rVert\\le\\lVert{\\boldsymbol{A}}^{-1}\\rVert\\lVert\\delta{\\boldsymbol{x}}\\rVert$$ \n",
    "把两个不等式相乘，经整理 \n",
    "$$\\frac{\\lVert\\delta{\\boldsymbol{x}}\\rVert}{\\lVert{\\boldsymbol{x}}\\rVert}\\le{\\color{sintefblue}\\lVert{\\boldsymbol{A}}\\rVert\\lVert{\\boldsymbol{A}}^{-1}\\rVert}\\frac{\\lVert\\delta{\\boldsymbol{b}}\\rVert}{\\lVert{\\boldsymbol{b}}\\rVert}$$ \n",
    "即\n",
    "$$\\frac{\\lVert\\delta{\\boldsymbol{x}}\\rVert}{\\lVert{\\boldsymbol{x}}\\rVert}\\le{\\color{sintefblue}K({\\boldsymbol{A}})}\\frac{\\lVert\\delta{\\boldsymbol{b}}\\rVert}{\\lVert{\\boldsymbol{b}}\\rVert}$$ \n",
    "$ \\therefore $ 当 $ \\boldsymbol{b} $ 引入微小扰动 $ \\delta\\boldsymbol{b} $ 时，解的相对误差与矩阵 $ \\boldsymbol{A} $ 的条件数 $ K({\\boldsymbol{A}}) $ 有关"
   ]
  },
  {
   "cell_type": "markdown",
   "metadata": {},
   "source": [
    "## Question 4\n",
    "> "
   ]
  },
  {
   "cell_type": "code",
   "execution_count": 4,
   "metadata": {},
   "outputs": [],
   "source": [
    "import numpy as np"
   ]
  },
  {
   "cell_type": "code",
   "execution_count": 7,
   "metadata": {},
   "outputs": [],
   "source": [
    "def jacobi_iteration(A, b, p, N):\n",
    "    n = A.shape[0]\n",
    "    x = p.copy()\n",
    "    for k in range(N):\n",
    "        p_old = x.copy()\n",
    "        for i in range(n):\n",
    "            sum_j = np.dot(A[i, :], p_old) - A[i, i] * p_old[i]\n",
    "            x[i] = (b[i] - sum_j) / A[i, i]\n",
    "        print(f\"Round{k}:{x}|{np.linalg.norm(x - p_old, np.inf)}\")\n",
    "    return x"
   ]
  },
  {
   "cell_type": "code",
   "execution_count": 10,
   "metadata": {},
   "outputs": [
    {
     "name": "stdout",
     "output_type": "stream",
     "text": [
      "Round0:[0.5 0.  0.5 1. ]|1.0\n",
      "Round1:[0.5   0.25  0.75  1.125]|0.25\n",
      "Round2:[0.5625  0.3125  0.84375 1.1875 ]|0.09375\n",
      "Round3:[0.578125  0.3515625 0.875     1.2109375]|0.0390625\n",
      "Round4:[0.58789062 0.36328125 0.890625   1.21875   ]|0.015625\n",
      "Round5:[0.59082031 0.36962891 0.89550781 1.22265625]|0.00634765625\n",
      "Round6:[0.59240723 0.37158203 0.89807129 1.22387695]|0.0025634765625\n",
      "Round7:[0.59289551 0.37261963 0.89886475 1.22451782]|0.00103759765625\n",
      "Round8:[0.59315491 0.37294006 0.89928436 1.22471619]|0.00041961669921875\n",
      "Round9:[0.59323502 0.37310982 0.89941406 1.22482109]|0.0001697540283203125\n",
      "Round10:[0.59327745 0.37316227 0.89948273 1.22485352]|6.866455078125e-05\n",
      "Round11:[0.59329057 0.37319005 0.89950395 1.22487068]|2.777576446533203e-05\n",
      "Round12:[0.59329751 0.37319863 0.89951518 1.22487599]|1.1235475540161133e-05\n",
      "Round13:[0.59329966 0.37320317 0.89951865 1.2248788 ]|4.544854164123535e-06\n",
      "Round14:[0.59330079 0.37320458 0.89952049 1.22487966]|1.8384307622909546e-06\n",
      "Round15:[0.59330114 0.37320532 0.89952106 1.22488012]|7.436610758304596e-07\n",
      "Round16:[0.59330133 0.37320555 0.89952136 1.22488027]|3.0081719160079956e-07\n",
      "Round17:[0.59330139 0.37320567 0.89952145 1.22488034]|1.2168311513960361e-07\n",
      "Round18:[0.59330142 0.37320571 0.8995215  1.22488036]|4.9221853259950876e-08\n",
      "Round19:[0.59330143 0.37320573 0.89952152 1.22488038]|1.9910658011212945e-08\n",
      "近似解：[0.59330143 0.37320573 0.89952152 1.22488038]\n"
     ]
    }
   ],
   "source": [
    "A = np.array([[4, -1, 0, 0],\n",
    "              [-1, 4, -1, 0],\n",
    "              [0, -1, 4, -1],\n",
    "              [0, 0, -1, 4]], dtype = float)\n",
    "b = np.array([2, 0, 2, 4], dtype = float)\n",
    "p = np.zeros(b.shape)\n",
    "N = 20\n",
    "\n",
    "x = jacobi_iteration(A, b, p, N)\n",
    "print(f\"近似解：{x}\")"
   ]
  },
  {
   "cell_type": "markdown",
   "metadata": {},
   "source": [
    "## Question 5\n",
    "> "
   ]
  },
  {
   "cell_type": "markdown",
   "metadata": {},
   "source": [
    "### 参考文献\n",
    "> scholar.google > Pubilcations Library | [Sonneveld, P. (1989). \"CGS, A Fast Lanczos-Type Solver for Nonsymmetric Linear systems.\" SIAM Journal on Scientific and Statistical Computing, 10(1), 36-52.](https://epubs.siam.org/doi/10.1137/0910004)"
   ]
  },
  {
   "cell_type": "markdown",
   "metadata": {},
   "source": [
    "* *The following account is from GPT, because I was unable to read the literature directly.*"
   ]
  },
  {
   "cell_type": "markdown",
   "metadata": {},
   "source": [
    "### 共轭梯度平方法 (CGS) 原理\n",
    "共轭梯度平方法（Conjugate Gradient Squared Method, CGS）是由Sonneveld于1989年提出的一种用于求解大型稀疏非对称线性方程组的方法。CGS方法是基于共轭梯度法（Conjugate Gradient Method, CG）的，但为了处理非对称矩阵，它采用了一种不同的策略来构建迭代序列。具体来说，CGS通过将共轭梯度法应用于一个变换后的系统来加速收敛。这种方法可以看作是对BiCG（Biconjugate Gradient Method）的一个改进，它减少了BiCG中的一些冗余计算，从而提高了计算效率。\n",
    "\n",
    "CGS的核心思想是在每次迭代中构造两个序列：一个是搜索方向的序列，另一个是残差的序列。这两个序列通过一种特定的方式相互关联，使得残差序列能够快速地向零收敛。这种构造方式避免了直接计算矩阵的逆，同时也减少了存储需求。"
   ]
  },
  {
   "cell_type": "markdown",
   "metadata": {},
   "source": [
    "### CGS 与 CG 方法的比较\n",
    "**适用范围：** CG方法仅适用于对称正定矩阵，而CGS可以用于非对称矩阵。\n",
    "\n",
    "**收敛速度：** 理论上，CGS可能比CG更快地收敛，尤其是在处理非对称矩阵时。然而，实际性能可能会因问题的具体性质而异。\n",
    "\n",
    "**计算效率：** CGS通过减少一些计算步骤来提高效率，但它也可能因为其迭代过程中更复杂的操作而增加每步的计算成本。因此，在某些情况下，CG可能在总计算时间上更具优势。"
   ]
  },
  {
   "cell_type": "markdown",
   "metadata": {},
   "source": [
    "### Python实现"
   ]
  },
  {
   "cell_type": "code",
   "execution_count": 2,
   "metadata": {},
   "outputs": [
    {
     "name": "stdout",
     "output_type": "stream",
     "text": [
      "Solution: [2.48984398 0.31850015]\n",
      "Iterations: 20\n"
     ]
    }
   ],
   "source": [
    "import numpy as np\n",
    "\n",
    "def cgs(A, b, x0=None, tol=1e-5, maxiter=None):\n",
    "    if x0 is None:\n",
    "        x = np.zeros_like(b)\n",
    "    else:\n",
    "        x = x0.copy()\n",
    "    \n",
    "    r = b - A.dot(x)\n",
    "    rho_1 = np.dot(r, r)\n",
    "    p = r.copy()\n",
    "    \n",
    "    if maxiter is None:\n",
    "        maxiter = len(b) * 10\n",
    "    \n",
    "    for i in range(maxiter):\n",
    "        rho = np.dot(r, r)\n",
    "        if i > 0:\n",
    "            beta = rho / rho_1\n",
    "            p = r + beta * p\n",
    "        \n",
    "        q = A.dot(p)\n",
    "        alpha = rho / np.dot(p, q)\n",
    "        \n",
    "        x += alpha * p\n",
    "        r -= alpha * q\n",
    "        \n",
    "        rho_1 = rho\n",
    "        \n",
    "        if np.linalg.norm(r) < tol:\n",
    "            break\n",
    "    \n",
    "    return x, i+1\n",
    "\n",
    "# 定义一个示例问题\n",
    "A = np.array([[4, 3],\n",
    "            [1, 2]], dtype = float)\n",
    "b = np.array([11, 4], dtype = float)\n",
    "\n",
    "# 使用CGS求解\n",
    "x, iterations = cgs(A, b)\n",
    "print(\"Solution:\", x)\n",
    "print(\"Iterations:\", iterations)"
   ]
  }
 ],
 "metadata": {
  "kernelspec": {
   "display_name": "numerical-methods",
   "language": "python",
   "name": "python3"
  },
  "language_info": {
   "codemirror_mode": {
    "name": "ipython",
    "version": 3
   },
   "file_extension": ".py",
   "mimetype": "text/x-python",
   "name": "python",
   "nbconvert_exporter": "python",
   "pygments_lexer": "ipython3",
   "version": "3.11.4"
  }
 },
 "nbformat": 4,
 "nbformat_minor": 2
}
