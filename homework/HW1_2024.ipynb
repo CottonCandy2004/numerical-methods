{
 "cells": [
  {
   "cell_type": "markdown",
   "metadata": {},
   "source": [
    "```\n",
    "IDE_INFO:\n",
    "Visual Studio Code\n",
    "版本: 1.92.2 (system setup)\n",
    "提交: fee1edb8d6d72a0ddff41e5f71a671c23ed924b9\n",
    "日期: 2024-08-14T17:29:30.058Z\n",
    "Electron: 30.1.2\n",
    "ElectronBuildId: 9870757\n",
    "Chromium: 124.0.6367.243\n",
    "Node.js: 20.14.0\n",
    "V8: 12.4.254.20-electron.0\n",
    "OS: Windows_NT x64 10.0.22631\n",
    "\n",
    "Kernel Info:\n",
    "Python 3.11.4\n",
    "virtualenv  20.26.4\n",
    "\n",
    "requestments:\n",
    "Package           Version\n",
    "----------------- -----------\n",
    "asttokens         2.4.1\n",
    "colorama          0.4.6\n",
    "comm              0.2.2\n",
    "contourpy         1.3.0\n",
    "cycler            0.12.1\n",
    "debugpy           1.8.5\n",
    "decorator         5.1.1\n",
    "executing         2.1.0\n",
    "fonttools         4.54.1\n",
    "ipykernel         6.29.5\n",
    "ipython           8.27.0\n",
    "jedi              0.19.1\n",
    "jupyter_client    8.6.3\n",
    "jupyter_core      5.7.2\n",
    "kiwisolver        1.4.7\n",
    "matplotlib        3.9.2\n",
    "matplotlib-inline 0.1.7\n",
    "nest-asyncio      1.6.0\n",
    "numpy             2.1.1\n",
    "packaging         24.1\n",
    "parso             0.8.4\n",
    "pillow            10.4.0\n",
    "pip               24.2\n",
    "platformdirs      4.3.6\n",
    "prompt_toolkit    3.0.47\n",
    "psutil            6.0.0\n",
    "pure_eval         0.2.3\n",
    "Pygments          2.18.0\n",
    "pyparsing         3.1.4\n",
    "python-dateutil   2.9.0.post0\n",
    "pywin32           306\n",
    "pyzmq             26.2.0\n",
    "setuptools        74.1.2\n",
    "six               1.16.0\n",
    "stack-data        0.6.3\n",
    "tornado           6.4.1\n",
    "traitlets         5.14.3\n",
    "typing_extensions 4.12.2\n",
    "wcwidth           0.2.13\n",
    "wheel             0.44.0\n",
    "\n",
    "Code by CottonCandy2024\n",
    "```"
   ]
  },
  {
   "cell_type": "markdown",
   "metadata": {},
   "source": [
    "# Homework1_2024\n",
    "## Question 1\n",
    "> "
   ]
  },
  {
   "cell_type": "code",
   "execution_count": 1,
   "metadata": {},
   "outputs": [],
   "source": [
    "import math"
   ]
  },
  {
   "cell_type": "code",
   "execution_count": 12,
   "metadata": {},
   "outputs": [
    {
     "name": "stdout",
     "output_type": "stream",
     "text": [
      "Z*=4.242640687119286\n"
     ]
    }
   ],
   "source": [
    "def f(x, y, t):\n",
    "    return x**2*y*math.sin(t)\n",
    "\n",
    "x = 2.0\n",
    "y = 1.5\n",
    "t = math.pi/4\n",
    "result = f(x, y, t)\n",
    "print(f\"Z*={result}\")"
   ]
  },
  {
   "cell_type": "code",
   "execution_count": 13,
   "metadata": {},
   "outputs": [
    {
     "name": "stdout",
     "output_type": "stream",
     "text": [
      "ε=0.31915798295426523\n"
     ]
    }
   ],
   "source": [
    "x += 0.05\n",
    "y += 0.02\n",
    "t += 0.01\n",
    "positive_sigma = f(x, y, t) - result\n",
    "x -= 0.10\n",
    "y -= 0.04\n",
    "t -= 0.02\n",
    "negative_sigma = result - f(x, y, t)\n",
    "# print(positive_sigma)\n",
    "# print(negative_sigma)\n",
    "\n",
    "print(f\"ε={max(positive_sigma, negative_sigma)}\")"
   ]
  },
  {
   "cell_type": "markdown",
   "metadata": {},
   "source": [
    "## Question 2\n",
    "> "
   ]
  },
  {
   "cell_type": "markdown",
   "metadata": {},
   "source": [
    "系数矩阵的条件数刻画了线性系统的形态. 当条件数 $K({\\boldsymbol{A}})$ 接近 1 时，矩阵 $\\boldsymbol{A}$ 是良态，数值稳定性好；反之 $K({\\boldsymbol{A}})$ 偏离 1 时，矩阵 $\\boldsymbol{A}$ 是病态，数值稳定性较差."
   ]
  },
  {
   "cell_type": "markdown",
   "metadata": {},
   "source": [
    "### Example\n",
    "令 ${\\boldsymbol{A_{1}x}}={\\boldsymbol{b_{1}}}$，${\\boldsymbol{A_{2}x}}={\\boldsymbol{b_{2}}}$，\n",
    "\n",
    "其中：\n",
    "${\\boldsymbol{A_{1}}}=\\begin{bmatrix}\n",
    "1 & 0 \\\\\n",
    "0 & 1 \\\\\n",
    "\\end{bmatrix}$ ，\n",
    "${\\boldsymbol{A_{2}}}=\\begin{bmatrix}\n",
    "1 & 0.999 \\\\\n",
    "1 & 1.001 \\\\\n",
    "\\end{bmatrix}$ 。\n",
    "\n",
    "对于 ${\\boldsymbol{A_{1}}}$ ，其条件数为 $\\lVert{\\boldsymbol{A_{1}}}\\rVert_1 \\lVert{\\boldsymbol{A_{1}}^{-1}}\\rVert_1 = 1 \\times 1 = 1$ ，是良态矩阵；\n",
    "\n",
    "对于 ${\\boldsymbol{A_{2}}}$ ，其条件数为 $\\lVert{\\boldsymbol{A_{2}}}\\rVert_1 \\lVert{\\boldsymbol{A_{2}}^{-1}}\\rVert_1 = 2 \\times 1000.5 = 2001$ ，是病态矩阵。"
   ]
  }
 ],
 "metadata": {
  "kernelspec": {
   "display_name": "numerical-methods",
   "language": "python",
   "name": "python3"
  },
  "language_info": {
   "codemirror_mode": {
    "name": "ipython",
    "version": 3
   },
   "file_extension": ".py",
   "mimetype": "text/x-python",
   "name": "python",
   "nbconvert_exporter": "python",
   "pygments_lexer": "ipython3",
   "version": "3.11.4"
  }
 },
 "nbformat": 4,
 "nbformat_minor": 2
}
